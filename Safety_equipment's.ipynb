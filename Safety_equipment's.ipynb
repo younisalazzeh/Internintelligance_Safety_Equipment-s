{
  "nbformat": 4,
  "nbformat_minor": 0,
  "metadata": {
    "colab": {
      "provenance": [],
      "gpuType": "T4",
      "authorship_tag": "ABX9TyOcVy9jE+YfrBm+oIWLiq99",
      "include_colab_link": true
    },
    "kernelspec": {
      "name": "python3",
      "display_name": "Python 3"
    },
    "language_info": {
      "name": "python"
    },
    "accelerator": "GPU"
  },
  "cells": [
    {
      "cell_type": "markdown",
      "metadata": {
        "id": "view-in-github",
        "colab_type": "text"
      },
      "source": [
        "<a href=\"https://colab.research.google.com/github/younisalazzeh/Internintelligance_Safety_Equipment-s/blob/main/Safety_equipment's.ipynb\" target=\"_parent\"><img src=\"https://colab.research.google.com/assets/colab-badge.svg\" alt=\"Open In Colab\"/></a>"
      ]
    },
    {
      "cell_type": "markdown",
      "source": [
        "# Import the libraries\n"
      ],
      "metadata": {
        "id": "c4vsIG8BMkFn"
      }
    },
    {
      "cell_type": "code",
      "source": [
        "import os\n",
        "import cv2\n",
        "import torch\n",
        "import numpy as np\n",
        "import matplotlib.pyplot as plt\n",
        "import seaborn as sns\n",
        "from roboflow import Roboflow\n",
        "from ultralytics import YOLO\n",
        "from sklearn.metrics import precision_score, recall_score, confusion_matrix, ConfusionMatrixDisplay"
      ],
      "metadata": {
        "id": "aMYNTDWVMi4U"
      },
      "execution_count": null,
      "outputs": []
    },
    {
      "cell_type": "markdown",
      "source": [
        "# installing the Data from Roboflow\n"
      ],
      "metadata": {
        "id": "IXWDsPuAGv5Q"
      }
    },
    {
      "cell_type": "code",
      "execution_count": 1,
      "metadata": {
        "id": "xeTZ_2xSEgYS",
        "colab": {
          "base_uri": "https://localhost:8080/"
        },
        "outputId": "6ba5cd9d-71cc-4cd6-c3b4-87c1bef73e26"
      },
      "outputs": [
        {
          "output_type": "stream",
          "name": "stdout",
          "text": [
            "Collecting roboflow\n",
            "  Downloading roboflow-1.1.58-py3-none-any.whl.metadata (9.7 kB)\n",
            "Requirement already satisfied: certifi in /usr/local/lib/python3.11/dist-packages (from roboflow) (2025.1.31)\n",
            "Collecting idna==3.7 (from roboflow)\n",
            "  Downloading idna-3.7-py3-none-any.whl.metadata (9.9 kB)\n",
            "Requirement already satisfied: cycler in /usr/local/lib/python3.11/dist-packages (from roboflow) (0.12.1)\n",
            "Requirement already satisfied: kiwisolver>=1.3.1 in /usr/local/lib/python3.11/dist-packages (from roboflow) (1.4.8)\n",
            "Requirement already satisfied: matplotlib in /usr/local/lib/python3.11/dist-packages (from roboflow) (3.10.0)\n",
            "Requirement already satisfied: numpy>=1.18.5 in /usr/local/lib/python3.11/dist-packages (from roboflow) (1.26.4)\n",
            "Collecting opencv-python-headless==4.10.0.84 (from roboflow)\n",
            "  Downloading opencv_python_headless-4.10.0.84-cp37-abi3-manylinux_2_17_x86_64.manylinux2014_x86_64.whl.metadata (20 kB)\n",
            "Requirement already satisfied: Pillow>=7.1.2 in /usr/local/lib/python3.11/dist-packages (from roboflow) (11.1.0)\n",
            "Collecting pillow-heif>=0.18.0 (from roboflow)\n",
            "  Downloading pillow_heif-0.22.0-cp311-cp311-manylinux_2_17_x86_64.manylinux2014_x86_64.whl.metadata (9.6 kB)\n",
            "Requirement already satisfied: python-dateutil in /usr/local/lib/python3.11/dist-packages (from roboflow) (2.8.2)\n",
            "Collecting python-dotenv (from roboflow)\n",
            "  Downloading python_dotenv-1.0.1-py3-none-any.whl.metadata (23 kB)\n",
            "Requirement already satisfied: requests in /usr/local/lib/python3.11/dist-packages (from roboflow) (2.32.3)\n",
            "Requirement already satisfied: six in /usr/local/lib/python3.11/dist-packages (from roboflow) (1.17.0)\n",
            "Requirement already satisfied: urllib3>=1.26.6 in /usr/local/lib/python3.11/dist-packages (from roboflow) (2.3.0)\n",
            "Requirement already satisfied: tqdm>=4.41.0 in /usr/local/lib/python3.11/dist-packages (from roboflow) (4.67.1)\n",
            "Requirement already satisfied: PyYAML>=5.3.1 in /usr/local/lib/python3.11/dist-packages (from roboflow) (6.0.2)\n",
            "Requirement already satisfied: requests-toolbelt in /usr/local/lib/python3.11/dist-packages (from roboflow) (1.0.0)\n",
            "Collecting filetype (from roboflow)\n",
            "  Downloading filetype-1.2.0-py2.py3-none-any.whl.metadata (6.5 kB)\n",
            "Requirement already satisfied: contourpy>=1.0.1 in /usr/local/lib/python3.11/dist-packages (from matplotlib->roboflow) (1.3.1)\n",
            "Requirement already satisfied: fonttools>=4.22.0 in /usr/local/lib/python3.11/dist-packages (from matplotlib->roboflow) (4.56.0)\n",
            "Requirement already satisfied: packaging>=20.0 in /usr/local/lib/python3.11/dist-packages (from matplotlib->roboflow) (24.2)\n",
            "Requirement already satisfied: pyparsing>=2.3.1 in /usr/local/lib/python3.11/dist-packages (from matplotlib->roboflow) (3.2.1)\n",
            "Requirement already satisfied: charset-normalizer<4,>=2 in /usr/local/lib/python3.11/dist-packages (from requests->roboflow) (3.4.1)\n",
            "Downloading roboflow-1.1.58-py3-none-any.whl (84 kB)\n",
            "\u001b[2K   \u001b[90m━━━━━━━━━━━━━━━━━━━━━━━━━━━━━━━━━━━━━━━━\u001b[0m \u001b[32m84.5/84.5 kB\u001b[0m \u001b[31m5.4 MB/s\u001b[0m eta \u001b[36m0:00:00\u001b[0m\n",
            "\u001b[?25hDownloading idna-3.7-py3-none-any.whl (66 kB)\n",
            "\u001b[2K   \u001b[90m━━━━━━━━━━━━━━━━━━━━━━━━━━━━━━━━━━━━━━━━\u001b[0m \u001b[32m66.8/66.8 kB\u001b[0m \u001b[31m7.1 MB/s\u001b[0m eta \u001b[36m0:00:00\u001b[0m\n",
            "\u001b[?25hDownloading opencv_python_headless-4.10.0.84-cp37-abi3-manylinux_2_17_x86_64.manylinux2014_x86_64.whl (49.9 MB)\n",
            "\u001b[2K   \u001b[90m━━━━━━━━━━━━━━━━━━━━━━━━━━━━━━━━━━━━━━━━\u001b[0m \u001b[32m49.9/49.9 MB\u001b[0m \u001b[31m19.9 MB/s\u001b[0m eta \u001b[36m0:00:00\u001b[0m\n",
            "\u001b[?25hDownloading pillow_heif-0.22.0-cp311-cp311-manylinux_2_17_x86_64.manylinux2014_x86_64.whl (7.8 MB)\n",
            "\u001b[2K   \u001b[90m━━━━━━━━━━━━━━━━━━━━━━━━━━━━━━━━━━━━━━━━\u001b[0m \u001b[32m7.8/7.8 MB\u001b[0m \u001b[31m117.3 MB/s\u001b[0m eta \u001b[36m0:00:00\u001b[0m\n",
            "\u001b[?25hDownloading filetype-1.2.0-py2.py3-none-any.whl (19 kB)\n",
            "Downloading python_dotenv-1.0.1-py3-none-any.whl (19 kB)\n",
            "Installing collected packages: filetype, python-dotenv, pillow-heif, opencv-python-headless, idna, roboflow\n",
            "  Attempting uninstall: opencv-python-headless\n",
            "    Found existing installation: opencv-python-headless 4.11.0.86\n",
            "    Uninstalling opencv-python-headless-4.11.0.86:\n",
            "      Successfully uninstalled opencv-python-headless-4.11.0.86\n",
            "  Attempting uninstall: idna\n",
            "    Found existing installation: idna 3.10\n",
            "    Uninstalling idna-3.10:\n",
            "      Successfully uninstalled idna-3.10\n",
            "Successfully installed filetype-1.2.0 idna-3.7 opencv-python-headless-4.10.0.84 pillow-heif-0.22.0 python-dotenv-1.0.1 roboflow-1.1.58\n",
            "loading Roboflow workspace...\n",
            "loading Roboflow project...\n"
          ]
        },
        {
          "output_type": "stream",
          "name": "stderr",
          "text": [
            "Downloading Dataset Version Zip in Innowork-24-4 to yolov11:: 100%|██████████| 416896/416896 [00:06<00:00, 65308.93it/s]"
          ]
        },
        {
          "output_type": "stream",
          "name": "stdout",
          "text": [
            "\n"
          ]
        },
        {
          "output_type": "stream",
          "name": "stderr",
          "text": [
            "\n",
            "Extracting Dataset Version Zip to Innowork-24-4 in yolov11:: 100%|██████████| 16834/16834 [00:02<00:00, 5945.83it/s]\n"
          ]
        }
      ],
      "source": [
        "!pip install roboflow\n",
        "\n",
        "from roboflow import Roboflow\n",
        "rf = Roboflow(api_key=\"1WpdQQkIGXm3OcELC5qM\")\n",
        "project = rf.workspace(\"apd-0zj3f\").project(\"innowork-24\")\n",
        "version = project.version(4)\n",
        "dataset = version.download(\"yolov11\")\n",
        "\n"
      ]
    },
    {
      "cell_type": "markdown",
      "source": [
        "# Installing the ultralytics library\n",
        "\n"
      ],
      "metadata": {
        "id": "OE5mGMiyG758"
      }
    },
    {
      "cell_type": "code",
      "source": [
        "# Install necessary libraries\n",
        "os.system(\"pip install roboflow ultralytics\")3"
      ],
      "metadata": {
        "colab": {
          "base_uri": "https://localhost:8080/"
        },
        "id": "n1KZjz6G6jub",
        "outputId": "9a92f266-c67c-47e3-9c02-ab0f56677d8a"
      },
      "execution_count": 2,
      "outputs": [
        {
          "output_type": "stream",
          "name": "stdout",
          "text": [
            "Collecting ultralytics\n",
            "  Downloading ultralytics-8.3.91-py3-none-any.whl.metadata (35 kB)\n",
            "Requirement already satisfied: numpy<=2.1.1,>=1.23.0 in /usr/local/lib/python3.11/dist-packages (from ultralytics) (1.26.4)\n",
            "Requirement already satisfied: matplotlib>=3.3.0 in /usr/local/lib/python3.11/dist-packages (from ultralytics) (3.10.0)\n",
            "Requirement already satisfied: opencv-python>=4.6.0 in /usr/local/lib/python3.11/dist-packages (from ultralytics) (4.11.0.86)\n",
            "Requirement already satisfied: pillow>=7.1.2 in /usr/local/lib/python3.11/dist-packages (from ultralytics) (11.1.0)\n",
            "Requirement already satisfied: pyyaml>=5.3.1 in /usr/local/lib/python3.11/dist-packages (from ultralytics) (6.0.2)\n",
            "Requirement already satisfied: requests>=2.23.0 in /usr/local/lib/python3.11/dist-packages (from ultralytics) (2.32.3)\n",
            "Requirement already satisfied: scipy>=1.4.1 in /usr/local/lib/python3.11/dist-packages (from ultralytics) (1.14.1)\n",
            "Requirement already satisfied: torch>=1.8.0 in /usr/local/lib/python3.11/dist-packages (from ultralytics) (2.6.0+cu124)\n",
            "Requirement already satisfied: torchvision>=0.9.0 in /usr/local/lib/python3.11/dist-packages (from ultralytics) (0.21.0+cu124)\n",
            "Requirement already satisfied: tqdm>=4.64.0 in /usr/local/lib/python3.11/dist-packages (from ultralytics) (4.67.1)\n",
            "Requirement already satisfied: psutil in /usr/local/lib/python3.11/dist-packages (from ultralytics) (5.9.5)\n",
            "Requirement already satisfied: py-cpuinfo in /usr/local/lib/python3.11/dist-packages (from ultralytics) (9.0.0)\n",
            "Requirement already satisfied: pandas>=1.1.4 in /usr/local/lib/python3.11/dist-packages (from ultralytics) (2.2.2)\n",
            "Requirement already satisfied: seaborn>=0.11.0 in /usr/local/lib/python3.11/dist-packages (from ultralytics) (0.13.2)\n",
            "Collecting ultralytics-thop>=2.0.0 (from ultralytics)\n",
            "  Downloading ultralytics_thop-2.0.14-py3-none-any.whl.metadata (9.4 kB)\n",
            "Requirement already satisfied: contourpy>=1.0.1 in /usr/local/lib/python3.11/dist-packages (from matplotlib>=3.3.0->ultralytics) (1.3.1)\n",
            "Requirement already satisfied: cycler>=0.10 in /usr/local/lib/python3.11/dist-packages (from matplotlib>=3.3.0->ultralytics) (0.12.1)\n",
            "Requirement already satisfied: fonttools>=4.22.0 in /usr/local/lib/python3.11/dist-packages (from matplotlib>=3.3.0->ultralytics) (4.56.0)\n",
            "Requirement already satisfied: kiwisolver>=1.3.1 in /usr/local/lib/python3.11/dist-packages (from matplotlib>=3.3.0->ultralytics) (1.4.8)\n",
            "Requirement already satisfied: packaging>=20.0 in /usr/local/lib/python3.11/dist-packages (from matplotlib>=3.3.0->ultralytics) (24.2)\n",
            "Requirement already satisfied: pyparsing>=2.3.1 in /usr/local/lib/python3.11/dist-packages (from matplotlib>=3.3.0->ultralytics) (3.2.1)\n",
            "Requirement already satisfied: python-dateutil>=2.7 in /usr/local/lib/python3.11/dist-packages (from matplotlib>=3.3.0->ultralytics) (2.8.2)\n",
            "Requirement already satisfied: pytz>=2020.1 in /usr/local/lib/python3.11/dist-packages (from pandas>=1.1.4->ultralytics) (2025.1)\n",
            "Requirement already satisfied: tzdata>=2022.7 in /usr/local/lib/python3.11/dist-packages (from pandas>=1.1.4->ultralytics) (2025.1)\n",
            "Requirement already satisfied: charset-normalizer<4,>=2 in /usr/local/lib/python3.11/dist-packages (from requests>=2.23.0->ultralytics) (3.4.1)\n",
            "Requirement already satisfied: idna<4,>=2.5 in /usr/local/lib/python3.11/dist-packages (from requests>=2.23.0->ultralytics) (3.10)\n",
            "Requirement already satisfied: urllib3<3,>=1.21.1 in /usr/local/lib/python3.11/dist-packages (from requests>=2.23.0->ultralytics) (2.3.0)\n",
            "Requirement already satisfied: certifi>=2017.4.17 in /usr/local/lib/python3.11/dist-packages (from requests>=2.23.0->ultralytics) (2025.1.31)\n",
            "Requirement already satisfied: filelock in /usr/local/lib/python3.11/dist-packages (from torch>=1.8.0->ultralytics) (3.17.0)\n",
            "Requirement already satisfied: typing-extensions>=4.10.0 in /usr/local/lib/python3.11/dist-packages (from torch>=1.8.0->ultralytics) (4.12.2)\n",
            "Requirement already satisfied: networkx in /usr/local/lib/python3.11/dist-packages (from torch>=1.8.0->ultralytics) (3.4.2)\n",
            "Requirement already satisfied: jinja2 in /usr/local/lib/python3.11/dist-packages (from torch>=1.8.0->ultralytics) (3.1.6)\n",
            "Requirement already satisfied: fsspec in /usr/local/lib/python3.11/dist-packages (from torch>=1.8.0->ultralytics) (2024.10.0)\n",
            "Collecting nvidia-cuda-nvrtc-cu12==12.4.127 (from torch>=1.8.0->ultralytics)\n",
            "  Downloading nvidia_cuda_nvrtc_cu12-12.4.127-py3-none-manylinux2014_x86_64.whl.metadata (1.5 kB)\n",
            "Collecting nvidia-cuda-runtime-cu12==12.4.127 (from torch>=1.8.0->ultralytics)\n",
            "  Downloading nvidia_cuda_runtime_cu12-12.4.127-py3-none-manylinux2014_x86_64.whl.metadata (1.5 kB)\n",
            "Collecting nvidia-cuda-cupti-cu12==12.4.127 (from torch>=1.8.0->ultralytics)\n",
            "  Downloading nvidia_cuda_cupti_cu12-12.4.127-py3-none-manylinux2014_x86_64.whl.metadata (1.6 kB)\n",
            "Collecting nvidia-cudnn-cu12==9.1.0.70 (from torch>=1.8.0->ultralytics)\n",
            "  Downloading nvidia_cudnn_cu12-9.1.0.70-py3-none-manylinux2014_x86_64.whl.metadata (1.6 kB)\n",
            "Collecting nvidia-cublas-cu12==12.4.5.8 (from torch>=1.8.0->ultralytics)\n",
            "  Downloading nvidia_cublas_cu12-12.4.5.8-py3-none-manylinux2014_x86_64.whl.metadata (1.5 kB)\n",
            "Collecting nvidia-cufft-cu12==11.2.1.3 (from torch>=1.8.0->ultralytics)\n",
            "  Downloading nvidia_cufft_cu12-11.2.1.3-py3-none-manylinux2014_x86_64.whl.metadata (1.5 kB)\n",
            "Collecting nvidia-curand-cu12==10.3.5.147 (from torch>=1.8.0->ultralytics)\n",
            "  Downloading nvidia_curand_cu12-10.3.5.147-py3-none-manylinux2014_x86_64.whl.metadata (1.5 kB)\n",
            "Collecting nvidia-cusolver-cu12==11.6.1.9 (from torch>=1.8.0->ultralytics)\n",
            "  Downloading nvidia_cusolver_cu12-11.6.1.9-py3-none-manylinux2014_x86_64.whl.metadata (1.6 kB)\n",
            "Collecting nvidia-cusparse-cu12==12.3.1.170 (from torch>=1.8.0->ultralytics)\n",
            "  Downloading nvidia_cusparse_cu12-12.3.1.170-py3-none-manylinux2014_x86_64.whl.metadata (1.6 kB)\n",
            "Requirement already satisfied: nvidia-cusparselt-cu12==0.6.2 in /usr/local/lib/python3.11/dist-packages (from torch>=1.8.0->ultralytics) (0.6.2)\n",
            "Requirement already satisfied: nvidia-nccl-cu12==2.21.5 in /usr/local/lib/python3.11/dist-packages (from torch>=1.8.0->ultralytics) (2.21.5)\n",
            "Requirement already satisfied: nvidia-nvtx-cu12==12.4.127 in /usr/local/lib/python3.11/dist-packages (from torch>=1.8.0->ultralytics) (12.4.127)\n",
            "Collecting nvidia-nvjitlink-cu12==12.4.127 (from torch>=1.8.0->ultralytics)\n",
            "  Downloading nvidia_nvjitlink_cu12-12.4.127-py3-none-manylinux2014_x86_64.whl.metadata (1.5 kB)\n",
            "Requirement already satisfied: triton==3.2.0 in /usr/local/lib/python3.11/dist-packages (from torch>=1.8.0->ultralytics) (3.2.0)\n",
            "Requirement already satisfied: sympy==1.13.1 in /usr/local/lib/python3.11/dist-packages (from torch>=1.8.0->ultralytics) (1.13.1)\n",
            "Requirement already satisfied: mpmath<1.4,>=1.1.0 in /usr/local/lib/python3.11/dist-packages (from sympy==1.13.1->torch>=1.8.0->ultralytics) (1.3.0)\n",
            "Requirement already satisfied: six>=1.5 in /usr/local/lib/python3.11/dist-packages (from python-dateutil>=2.7->matplotlib>=3.3.0->ultralytics) (1.17.0)\n",
            "Requirement already satisfied: MarkupSafe>=2.0 in /usr/local/lib/python3.11/dist-packages (from jinja2->torch>=1.8.0->ultralytics) (3.0.2)\n",
            "Downloading ultralytics-8.3.91-py3-none-any.whl (949 kB)\n",
            "\u001b[2K   \u001b[90m━━━━━━━━━━━━━━━━━━━━━━━━━━━━━━━━━━━━━━━━\u001b[0m \u001b[32m949.2/949.2 kB\u001b[0m \u001b[31m27.6 MB/s\u001b[0m eta \u001b[36m0:00:00\u001b[0m\n",
            "\u001b[?25hDownloading nvidia_cublas_cu12-12.4.5.8-py3-none-manylinux2014_x86_64.whl (363.4 MB)\n",
            "\u001b[2K   \u001b[90m━━━━━━━━━━━━━━━━━━━━━━━━━━━━━━━━━━━━━━━━\u001b[0m \u001b[32m363.4/363.4 MB\u001b[0m \u001b[31m1.5 MB/s\u001b[0m eta \u001b[36m0:00:00\u001b[0m\n",
            "\u001b[?25hDownloading nvidia_cuda_cupti_cu12-12.4.127-py3-none-manylinux2014_x86_64.whl (13.8 MB)\n",
            "\u001b[2K   \u001b[90m━━━━━━━━━━━━━━━━━━━━━━━━━━━━━━━━━━━━━━━━\u001b[0m \u001b[32m13.8/13.8 MB\u001b[0m \u001b[31m88.0 MB/s\u001b[0m eta \u001b[36m0:00:00\u001b[0m\n",
            "\u001b[?25hDownloading nvidia_cuda_nvrtc_cu12-12.4.127-py3-none-manylinux2014_x86_64.whl (24.6 MB)\n",
            "\u001b[2K   \u001b[90m━━━━━━━━━━━━━━━━━━━━━━━━━━━━━━━━━━━━━━━━\u001b[0m \u001b[32m24.6/24.6 MB\u001b[0m \u001b[31m65.8 MB/s\u001b[0m eta \u001b[36m0:00:00\u001b[0m\n",
            "\u001b[?25hDownloading nvidia_cuda_runtime_cu12-12.4.127-py3-none-manylinux2014_x86_64.whl (883 kB)\n",
            "\u001b[2K   \u001b[90m━━━━━━━━━━━━━━━━━━━━━━━━━━━━━━━━━━━━━━━━\u001b[0m \u001b[32m883.7/883.7 kB\u001b[0m \u001b[31m49.9 MB/s\u001b[0m eta \u001b[36m0:00:00\u001b[0m\n",
            "\u001b[?25hDownloading nvidia_cudnn_cu12-9.1.0.70-py3-none-manylinux2014_x86_64.whl (664.8 MB)\n",
            "\u001b[2K   \u001b[90m━━━━━━━━━━━━━━━━━━━━━━━━━━━━━━━━━━━━━━━━\u001b[0m \u001b[32m664.8/664.8 MB\u001b[0m \u001b[31m2.9 MB/s\u001b[0m eta \u001b[36m0:00:00\u001b[0m\n",
            "\u001b[?25hDownloading nvidia_cufft_cu12-11.2.1.3-py3-none-manylinux2014_x86_64.whl (211.5 MB)\n",
            "\u001b[2K   \u001b[90m━━━━━━━━━━━━━━━━━━━━━━━━━━━━━━━━━━━━━━━━\u001b[0m \u001b[32m211.5/211.5 MB\u001b[0m \u001b[31m5.6 MB/s\u001b[0m eta \u001b[36m0:00:00\u001b[0m\n",
            "\u001b[?25hDownloading nvidia_curand_cu12-10.3.5.147-py3-none-manylinux2014_x86_64.whl (56.3 MB)\n",
            "\u001b[2K   \u001b[90m━━━━━━━━━━━━━━━━━━━━━━━━━━━━━━━━━━━━━━━━\u001b[0m \u001b[32m56.3/56.3 MB\u001b[0m \u001b[31m13.1 MB/s\u001b[0m eta \u001b[36m0:00:00\u001b[0m\n",
            "\u001b[?25hDownloading nvidia_cusolver_cu12-11.6.1.9-py3-none-manylinux2014_x86_64.whl (127.9 MB)\n",
            "\u001b[2K   \u001b[90m━━━━━━━━━━━━━━━━━━━━━━━━━━━━━━━━━━━━━━━━\u001b[0m \u001b[32m127.9/127.9 MB\u001b[0m \u001b[31m7.5 MB/s\u001b[0m eta \u001b[36m0:00:00\u001b[0m\n",
            "\u001b[?25hDownloading nvidia_cusparse_cu12-12.3.1.170-py3-none-manylinux2014_x86_64.whl (207.5 MB)\n",
            "\u001b[2K   \u001b[90m━━━━━━━━━━━━━━━━━━━━━━━━━━━━━━━━━━━━━━━━\u001b[0m \u001b[32m207.5/207.5 MB\u001b[0m \u001b[31m6.0 MB/s\u001b[0m eta \u001b[36m0:00:00\u001b[0m\n",
            "\u001b[?25hDownloading nvidia_nvjitlink_cu12-12.4.127-py3-none-manylinux2014_x86_64.whl (21.1 MB)\n",
            "\u001b[2K   \u001b[90m━━━━━━━━━━━━━━━━━━━━━━━━━━━━━━━━━━━━━━━━\u001b[0m \u001b[32m21.1/21.1 MB\u001b[0m \u001b[31m67.2 MB/s\u001b[0m eta \u001b[36m0:00:00\u001b[0m\n",
            "\u001b[?25hDownloading ultralytics_thop-2.0.14-py3-none-any.whl (26 kB)\n",
            "Installing collected packages: nvidia-nvjitlink-cu12, nvidia-curand-cu12, nvidia-cufft-cu12, nvidia-cuda-runtime-cu12, nvidia-cuda-nvrtc-cu12, nvidia-cuda-cupti-cu12, nvidia-cublas-cu12, nvidia-cusparse-cu12, nvidia-cudnn-cu12, nvidia-cusolver-cu12, ultralytics-thop, ultralytics\n",
            "  Attempting uninstall: nvidia-nvjitlink-cu12\n",
            "    Found existing installation: nvidia-nvjitlink-cu12 12.5.82\n",
            "    Uninstalling nvidia-nvjitlink-cu12-12.5.82:\n",
            "      Successfully uninstalled nvidia-nvjitlink-cu12-12.5.82\n",
            "  Attempting uninstall: nvidia-curand-cu12\n",
            "    Found existing installation: nvidia-curand-cu12 10.3.6.82\n",
            "    Uninstalling nvidia-curand-cu12-10.3.6.82:\n",
            "      Successfully uninstalled nvidia-curand-cu12-10.3.6.82\n",
            "  Attempting uninstall: nvidia-cufft-cu12\n",
            "    Found existing installation: nvidia-cufft-cu12 11.2.3.61\n",
            "    Uninstalling nvidia-cufft-cu12-11.2.3.61:\n",
            "      Successfully uninstalled nvidia-cufft-cu12-11.2.3.61\n",
            "  Attempting uninstall: nvidia-cuda-runtime-cu12\n",
            "    Found existing installation: nvidia-cuda-runtime-cu12 12.5.82\n",
            "    Uninstalling nvidia-cuda-runtime-cu12-12.5.82:\n",
            "      Successfully uninstalled nvidia-cuda-runtime-cu12-12.5.82\n",
            "  Attempting uninstall: nvidia-cuda-nvrtc-cu12\n",
            "    Found existing installation: nvidia-cuda-nvrtc-cu12 12.5.82\n",
            "    Uninstalling nvidia-cuda-nvrtc-cu12-12.5.82:\n",
            "      Successfully uninstalled nvidia-cuda-nvrtc-cu12-12.5.82\n",
            "  Attempting uninstall: nvidia-cuda-cupti-cu12\n",
            "    Found existing installation: nvidia-cuda-cupti-cu12 12.5.82\n",
            "    Uninstalling nvidia-cuda-cupti-cu12-12.5.82:\n",
            "      Successfully uninstalled nvidia-cuda-cupti-cu12-12.5.82\n",
            "  Attempting uninstall: nvidia-cublas-cu12\n",
            "    Found existing installation: nvidia-cublas-cu12 12.5.3.2\n",
            "    Uninstalling nvidia-cublas-cu12-12.5.3.2:\n",
            "      Successfully uninstalled nvidia-cublas-cu12-12.5.3.2\n",
            "  Attempting uninstall: nvidia-cusparse-cu12\n",
            "    Found existing installation: nvidia-cusparse-cu12 12.5.1.3\n",
            "    Uninstalling nvidia-cusparse-cu12-12.5.1.3:\n",
            "      Successfully uninstalled nvidia-cusparse-cu12-12.5.1.3\n",
            "  Attempting uninstall: nvidia-cudnn-cu12\n",
            "    Found existing installation: nvidia-cudnn-cu12 9.3.0.75\n",
            "    Uninstalling nvidia-cudnn-cu12-9.3.0.75:\n",
            "      Successfully uninstalled nvidia-cudnn-cu12-9.3.0.75\n",
            "  Attempting uninstall: nvidia-cusolver-cu12\n",
            "    Found existing installation: nvidia-cusolver-cu12 11.6.3.83\n",
            "    Uninstalling nvidia-cusolver-cu12-11.6.3.83:\n",
            "      Successfully uninstalled nvidia-cusolver-cu12-11.6.3.83\n",
            "Successfully installed nvidia-cublas-cu12-12.4.5.8 nvidia-cuda-cupti-cu12-12.4.127 nvidia-cuda-nvrtc-cu12-12.4.127 nvidia-cuda-runtime-cu12-12.4.127 nvidia-cudnn-cu12-9.1.0.70 nvidia-cufft-cu12-11.2.1.3 nvidia-curand-cu12-10.3.5.147 nvidia-cusolver-cu12-11.6.1.9 nvidia-cusparse-cu12-12.3.1.170 nvidia-nvjitlink-cu12-12.4.127 ultralytics-8.3.91 ultralytics-thop-2.0.14\n"
          ]
        }
      ]
    },
    {
      "cell_type": "markdown",
      "source": [
        "# Training the model\n"
      ],
      "metadata": {
        "id": "dS5Y4db1HIJD"
      }
    },
    {
      "cell_type": "code",
      "source": [
        "def train_model(model_path, data_yaml, epochs=50, device=0):\n",
        "    \"\"\"Train YOLOv11 model\"\"\"\n",
        "    model = YOLO(model_path)  # Load pretrained model\n",
        "    results = model.train(data=data_yaml, epochs=epochs, imgsz=640, device=device)\n",
        "    return results\n",
        "\n",
        "# Train the model\n",
        "trained_model_results = train_model(\"yolo11n.pt\", \"/content/Innowork-24-4/data.yaml\")\n"
      ],
      "metadata": {
        "colab": {
          "base_uri": "https://localhost:8080/"
        },
        "id": "Hz1pUib_6cj_",
        "outputId": "13987aa8-c50d-41e0-8a7b-dee6e8969c12"
      },
      "execution_count": null,
      "outputs": [
        {
          "output_type": "stream",
          "name": "stdout",
          "text": [
            "Ultralytics 8.3.85 🚀 Python-3.11.11 torch-2.5.1+cu124 CUDA:0 (Tesla T4, 15095MiB)\n",
            "\u001b[34m\u001b[1mengine/trainer: \u001b[0mtask=detect, mode=train, model=yolo11n.pt, data=/content/Innowork-24-4/data.yaml, epochs=50, time=None, patience=100, batch=16, imgsz=640, save=True, save_period=-1, cache=False, device=0, workers=8, project=None, name=train, exist_ok=False, pretrained=True, optimizer=auto, verbose=True, seed=0, deterministic=True, single_cls=False, rect=False, cos_lr=False, close_mosaic=10, resume=False, amp=True, fraction=1.0, profile=False, freeze=None, multi_scale=False, overlap_mask=True, mask_ratio=4, dropout=0.0, val=True, split=val, save_json=False, save_hybrid=False, conf=None, iou=0.7, max_det=300, half=False, dnn=False, plots=True, source=None, vid_stride=1, stream_buffer=False, visualize=False, augment=False, agnostic_nms=False, classes=None, retina_masks=False, embed=None, show=False, save_frames=False, save_txt=False, save_conf=False, save_crop=False, show_labels=True, show_conf=True, show_boxes=True, line_width=None, format=torchscript, keras=False, optimize=False, int8=False, dynamic=False, simplify=True, opset=None, workspace=None, nms=False, lr0=0.01, lrf=0.01, momentum=0.937, weight_decay=0.0005, warmup_epochs=3.0, warmup_momentum=0.8, warmup_bias_lr=0.1, box=7.5, cls=0.5, dfl=1.5, pose=12.0, kobj=1.0, nbs=64, hsv_h=0.015, hsv_s=0.7, hsv_v=0.4, degrees=0.0, translate=0.1, scale=0.5, shear=0.0, perspective=0.0, flipud=0.0, fliplr=0.5, bgr=0.0, mosaic=1.0, mixup=0.0, copy_paste=0.0, copy_paste_mode=flip, auto_augment=randaugment, erasing=0.4, crop_fraction=1.0, cfg=None, tracker=botsort.yaml, save_dir=runs/detect/train\n",
            "Downloading https://ultralytics.com/assets/Arial.ttf to '/root/.config/Ultralytics/Arial.ttf'...\n"
          ]
        },
        {
          "output_type": "stream",
          "name": "stderr",
          "text": [
            "100%|██████████| 755k/755k [00:00<00:00, 40.7MB/s]\n"
          ]
        },
        {
          "output_type": "stream",
          "name": "stdout",
          "text": [
            "Overriding model.yaml nc=80 with nc=15\n",
            "\n",
            "                   from  n    params  module                                       arguments                     \n",
            "  0                  -1  1       464  ultralytics.nn.modules.conv.Conv             [3, 16, 3, 2]                 \n",
            "  1                  -1  1      4672  ultralytics.nn.modules.conv.Conv             [16, 32, 3, 2]                \n",
            "  2                  -1  1      6640  ultralytics.nn.modules.block.C3k2            [32, 64, 1, False, 0.25]      \n",
            "  3                  -1  1     36992  ultralytics.nn.modules.conv.Conv             [64, 64, 3, 2]                \n",
            "  4                  -1  1     26080  ultralytics.nn.modules.block.C3k2            [64, 128, 1, False, 0.25]     \n",
            "  5                  -1  1    147712  ultralytics.nn.modules.conv.Conv             [128, 128, 3, 2]              \n",
            "  6                  -1  1     87040  ultralytics.nn.modules.block.C3k2            [128, 128, 1, True]           \n",
            "  7                  -1  1    295424  ultralytics.nn.modules.conv.Conv             [128, 256, 3, 2]              \n",
            "  8                  -1  1    346112  ultralytics.nn.modules.block.C3k2            [256, 256, 1, True]           \n",
            "  9                  -1  1    164608  ultralytics.nn.modules.block.SPPF            [256, 256, 5]                 \n",
            " 10                  -1  1    249728  ultralytics.nn.modules.block.C2PSA           [256, 256, 1]                 \n",
            " 11                  -1  1         0  torch.nn.modules.upsampling.Upsample         [None, 2, 'nearest']          \n",
            " 12             [-1, 6]  1         0  ultralytics.nn.modules.conv.Concat           [1]                           \n",
            " 13                  -1  1    111296  ultralytics.nn.modules.block.C3k2            [384, 128, 1, False]          \n",
            " 14                  -1  1         0  torch.nn.modules.upsampling.Upsample         [None, 2, 'nearest']          \n",
            " 15             [-1, 4]  1         0  ultralytics.nn.modules.conv.Concat           [1]                           \n",
            " 16                  -1  1     32096  ultralytics.nn.modules.block.C3k2            [256, 64, 1, False]           \n",
            " 17                  -1  1     36992  ultralytics.nn.modules.conv.Conv             [64, 64, 3, 2]                \n",
            " 18            [-1, 13]  1         0  ultralytics.nn.modules.conv.Concat           [1]                           \n",
            " 19                  -1  1     86720  ultralytics.nn.modules.block.C3k2            [192, 128, 1, False]          \n",
            " 20                  -1  1    147712  ultralytics.nn.modules.conv.Conv             [128, 128, 3, 2]              \n",
            " 21            [-1, 10]  1         0  ultralytics.nn.modules.conv.Concat           [1]                           \n",
            " 22                  -1  1    378880  ultralytics.nn.modules.block.C3k2            [384, 256, 1, True]           \n",
            " 23        [16, 19, 22]  1    433597  ultralytics.nn.modules.head.Detect           [15, [64, 128, 256]]          \n",
            "YOLO11n summary: 181 layers, 2,592,765 parameters, 2,592,749 gradients, 6.5 GFLOPs\n",
            "\n",
            "Transferred 448/499 items from pretrained weights\n",
            "\u001b[34m\u001b[1mTensorBoard: \u001b[0mStart with 'tensorboard --logdir runs/detect/train', view at http://localhost:6006/\n",
            "Freezing layer 'model.23.dfl.conv.weight'\n",
            "\u001b[34m\u001b[1mAMP: \u001b[0mrunning Automatic Mixed Precision (AMP) checks...\n",
            "\u001b[34m\u001b[1mAMP: \u001b[0mchecks passed ✅\n"
          ]
        },
        {
          "output_type": "stream",
          "name": "stderr",
          "text": [
            "\u001b[34m\u001b[1mtrain: \u001b[0mScanning /content/Innowork-24-4/train/labels... 6238 images, 37 backgrounds, 0 corrupt: 100%|██████████| 6238/6238 [00:10<00:00, 596.93it/s]"
          ]
        },
        {
          "output_type": "stream",
          "name": "stdout",
          "text": [
            "\u001b[34m\u001b[1mtrain: \u001b[0mWARNING ⚠️ /content/Innowork-24-4/train/images/104_jpg.rf.41a4c1142ef910f58e6d6186ed89797d.jpg: 2 duplicate labels removed\n",
            "\u001b[34m\u001b[1mtrain: \u001b[0mWARNING ⚠️ /content/Innowork-24-4/train/images/104_jpg.rf.b06be7992e881cbec2d1a788a6eae336.jpg: 2 duplicate labels removed\n",
            "\u001b[34m\u001b[1mtrain: \u001b[0mWARNING ⚠️ /content/Innowork-24-4/train/images/107_jpg.rf.a6c304cecd4ce09d493586d4851bf0a4.jpg: 2 duplicate labels removed\n",
            "\u001b[34m\u001b[1mtrain: \u001b[0mWARNING ⚠️ /content/Innowork-24-4/train/images/10_jpg.rf.c230014b1395114983e4d2d3c1e5666f.jpg: 2 duplicate labels removed\n",
            "\u001b[34m\u001b[1mtrain: \u001b[0mWARNING ⚠️ /content/Innowork-24-4/train/images/110_jpg.rf.f031f40550f26fe7a27dd1e917eb2401.jpg: 2 duplicate labels removed\n",
            "\u001b[34m\u001b[1mtrain: \u001b[0mWARNING ⚠️ /content/Innowork-24-4/train/images/111_jpg.rf.775ad5da99471893e69ad1f8f9cd8ecc.jpg: 2 duplicate labels removed\n",
            "\u001b[34m\u001b[1mtrain: \u001b[0mWARNING ⚠️ /content/Innowork-24-4/train/images/112_jpg.rf.a385721171f68174ac14b9f0b8d8099f.jpg: 2 duplicate labels removed\n",
            "\u001b[34m\u001b[1mtrain: \u001b[0mWARNING ⚠️ /content/Innowork-24-4/train/images/115_jpg.rf.786e33b4e80063bccbab702c6a1d2b99.jpg: 2 duplicate labels removed\n",
            "\u001b[34m\u001b[1mtrain: \u001b[0mWARNING ⚠️ /content/Innowork-24-4/train/images/116_jpg.rf.ca250ca2f7aa7b2dd37fa4c5fe261363.jpg: 2 duplicate labels removed\n",
            "\u001b[34m\u001b[1mtrain: \u001b[0mWARNING ⚠️ /content/Innowork-24-4/train/images/118_jpg.rf.3e1d64ece8b693c68c31336ec3248e10.jpg: 2 duplicate labels removed\n",
            "\u001b[34m\u001b[1mtrain: \u001b[0mWARNING ⚠️ /content/Innowork-24-4/train/images/11_jpg.rf.791259454339c4d07bf519a617e06862.jpg: 2 duplicate labels removed\n",
            "\u001b[34m\u001b[1mtrain: \u001b[0mWARNING ⚠️ /content/Innowork-24-4/train/images/120_jpg.rf.33640aef0ee068779d4af0475569a7ee.jpg: 2 duplicate labels removed\n",
            "\u001b[34m\u001b[1mtrain: \u001b[0mWARNING ⚠️ /content/Innowork-24-4/train/images/122_jpg.rf.41b42761b05900985b858a24e1710fea.jpg: 2 duplicate labels removed\n",
            "\u001b[34m\u001b[1mtrain: \u001b[0mWARNING ⚠️ /content/Innowork-24-4/train/images/123_jpg.rf.c3f9b1356fbb5a43fa5afde27ebffb36.jpg: 2 duplicate labels removed\n",
            "\u001b[34m\u001b[1mtrain: \u001b[0mWARNING ⚠️ /content/Innowork-24-4/train/images/125_jpg.rf.1d8df51978085cb3e7d0cd1f7669b8f3.jpg: 2 duplicate labels removed\n",
            "\u001b[34m\u001b[1mtrain: \u001b[0mWARNING ⚠️ /content/Innowork-24-4/train/images/127_jpg.rf.afeeeb731bd7dedaaddaaea21bc46363.jpg: 2 duplicate labels removed\n",
            "\u001b[34m\u001b[1mtrain: \u001b[0mWARNING ⚠️ /content/Innowork-24-4/train/images/128_jpg.rf.39957faf97c72abcba1d9ddba5f00217.jpg: 2 duplicate labels removed\n",
            "\u001b[34m\u001b[1mtrain: \u001b[0mWARNING ⚠️ /content/Innowork-24-4/train/images/129_jpg.rf.54ad0f7b98ebc2f3c8401b6bd29202e6.jpg: 2 duplicate labels removed\n",
            "\u001b[34m\u001b[1mtrain: \u001b[0mWARNING ⚠️ /content/Innowork-24-4/train/images/133_jpg.rf.270ab06143dde9c096e427769adf91a9.jpg: 2 duplicate labels removed\n",
            "\u001b[34m\u001b[1mtrain: \u001b[0mWARNING ⚠️ /content/Innowork-24-4/train/images/135_jpg.rf.79ab9eccd434b55d586060b660dd552e.jpg: 2 duplicate labels removed\n",
            "\u001b[34m\u001b[1mtrain: \u001b[0mWARNING ⚠️ /content/Innowork-24-4/train/images/135_jpg.rf.eaf5bd26515ef758243787195699c496.jpg: 2 duplicate labels removed\n",
            "\u001b[34m\u001b[1mtrain: \u001b[0mWARNING ⚠️ /content/Innowork-24-4/train/images/143_jpg.rf.29308d394565b3c8ce30491b3ad5179b.jpg: 2 duplicate labels removed\n",
            "\u001b[34m\u001b[1mtrain: \u001b[0mWARNING ⚠️ /content/Innowork-24-4/train/images/143_jpg.rf.edad8acf83b9490f623c3f9e89fec1c7.jpg: 2 duplicate labels removed\n",
            "\u001b[34m\u001b[1mtrain: \u001b[0mWARNING ⚠️ /content/Innowork-24-4/train/images/149_jpg.rf.83ef2d35b2520a512f66320f2db6fc47.jpg: 2 duplicate labels removed\n",
            "\u001b[34m\u001b[1mtrain: \u001b[0mWARNING ⚠️ /content/Innowork-24-4/train/images/156_jpg.rf.ce36a201df9b7ab2503cf83072b66e6f.jpg: 2 duplicate labels removed\n",
            "\u001b[34m\u001b[1mtrain: \u001b[0mWARNING ⚠️ /content/Innowork-24-4/train/images/159_jpg.rf.326ee3b59ced845affca07a76619679c.jpg: 2 duplicate labels removed\n",
            "\u001b[34m\u001b[1mtrain: \u001b[0mWARNING ⚠️ /content/Innowork-24-4/train/images/162_jpg.rf.66d35f7b7bc2e791eaf7372768a9c919.jpg: 2 duplicate labels removed\n",
            "\u001b[34m\u001b[1mtrain: \u001b[0mWARNING ⚠️ /content/Innowork-24-4/train/images/166_jpg.rf.f3650ece75b9e6bdfe7a6c6d27514e69.jpg: 2 duplicate labels removed\n",
            "\u001b[34m\u001b[1mtrain: \u001b[0mWARNING ⚠️ /content/Innowork-24-4/train/images/16_jpg.rf.28185947fadc36d7147399013cc7fd27.jpg: 2 duplicate labels removed\n",
            "\u001b[34m\u001b[1mtrain: \u001b[0mWARNING ⚠️ /content/Innowork-24-4/train/images/16_jpg.rf.323fb79e118206b59e81bf909bbcdc12.jpg: 2 duplicate labels removed\n",
            "\u001b[34m\u001b[1mtrain: \u001b[0mWARNING ⚠️ /content/Innowork-24-4/train/images/172_jpg.rf.5578691280e6347a3d32ab574ff97a46.jpg: 2 duplicate labels removed\n",
            "\u001b[34m\u001b[1mtrain: \u001b[0mWARNING ⚠️ /content/Innowork-24-4/train/images/172_jpg.rf.b7d8b1d5e39c30d87052d784c7012521.jpg: 2 duplicate labels removed\n",
            "\u001b[34m\u001b[1mtrain: \u001b[0mWARNING ⚠️ /content/Innowork-24-4/train/images/176_jpg.rf.821b3eea1e0ca21e9ed92336aee63b02.jpg: 2 duplicate labels removed\n",
            "\u001b[34m\u001b[1mtrain: \u001b[0mWARNING ⚠️ /content/Innowork-24-4/train/images/180_jpg.rf.627b791763e247204b37098b0c1a3f72.jpg: 2 duplicate labels removed\n",
            "\u001b[34m\u001b[1mtrain: \u001b[0mWARNING ⚠️ /content/Innowork-24-4/train/images/183_jpg.rf.365febd0d682d3a704faa30592843fdc.jpg: 2 duplicate labels removed\n",
            "\u001b[34m\u001b[1mtrain: \u001b[0mWARNING ⚠️ /content/Innowork-24-4/train/images/188_jpg.rf.c0f18d45cd8b693d806938da4ea4c686.jpg: 2 duplicate labels removed\n",
            "\u001b[34m\u001b[1mtrain: \u001b[0mWARNING ⚠️ /content/Innowork-24-4/train/images/18_jpg.rf.b277868b7bb1fe8449935cd6c758e46f.jpg: 2 duplicate labels removed\n",
            "\u001b[34m\u001b[1mtrain: \u001b[0mWARNING ⚠️ /content/Innowork-24-4/train/images/18_jpg.rf.e86500edd81ab114079f6fef746b490d.jpg: 2 duplicate labels removed\n",
            "\u001b[34m\u001b[1mtrain: \u001b[0mWARNING ⚠️ /content/Innowork-24-4/train/images/192_jpg.rf.afd9a67ec2b3d47422bd1814a7e11624.jpg: 2 duplicate labels removed\n",
            "\u001b[34m\u001b[1mtrain: \u001b[0mWARNING ⚠️ /content/Innowork-24-4/train/images/197_jpg.rf.e9ccd34c2ebf78e4bb26a8384fd84a6d.jpg: 2 duplicate labels removed\n",
            "\u001b[34m\u001b[1mtrain: \u001b[0mWARNING ⚠️ /content/Innowork-24-4/train/images/19_jpg.rf.847adced2adb0c6e6ce11f860ba5260b.jpg: 2 duplicate labels removed\n",
            "\u001b[34m\u001b[1mtrain: \u001b[0mWARNING ⚠️ /content/Innowork-24-4/train/images/19_jpg.rf.95d0f15e0eb2338c6a6bbb401fb74972.jpg: 2 duplicate labels removed\n",
            "\u001b[34m\u001b[1mtrain: \u001b[0mWARNING ⚠️ /content/Innowork-24-4/train/images/201_jpg.rf.0379628322b59b9cde306d4363e285b0.jpg: 2 duplicate labels removed\n",
            "\u001b[34m\u001b[1mtrain: \u001b[0mWARNING ⚠️ /content/Innowork-24-4/train/images/203_jpg.rf.df31b54759c1d9927227fe1a0287e177.jpg: 2 duplicate labels removed\n",
            "\u001b[34m\u001b[1mtrain: \u001b[0mWARNING ⚠️ /content/Innowork-24-4/train/images/204_jpg.rf.823c8e9a8d7b8c343601a4c33fb6e417.jpg: 2 duplicate labels removed\n",
            "\u001b[34m\u001b[1mtrain: \u001b[0mWARNING ⚠️ /content/Innowork-24-4/train/images/20_jpg.rf.94b9d03d485a33c4ace4442f0fcfff56.jpg: 2 duplicate labels removed\n",
            "\u001b[34m\u001b[1mtrain: \u001b[0mWARNING ⚠️ /content/Innowork-24-4/train/images/Video1_223_jpg.rf.42c0e9e85253d84f398106199e55247d.jpg: 1 duplicate labels removed\n",
            "\u001b[34m\u001b[1mtrain: \u001b[0mWARNING ⚠️ /content/Innowork-24-4/train/images/Video2_167_jpg.rf.b8f74607817ab2aac50b5b2aa7bb91ad.jpg: 1 duplicate labels removed\n"
          ]
        },
        {
          "output_type": "stream",
          "name": "stderr",
          "text": [
            "\n"
          ]
        },
        {
          "output_type": "stream",
          "name": "stdout",
          "text": [
            "\u001b[34m\u001b[1mtrain: \u001b[0mNew cache created: /content/Innowork-24-4/train/labels.cache\n",
            "\u001b[34m\u001b[1malbumentations: \u001b[0mBlur(p=0.01, blur_limit=(3, 7)), MedianBlur(p=0.01, blur_limit=(3, 7)), ToGray(p=0.01, num_output_channels=3, method='weighted_average'), CLAHE(p=0.01, clip_limit=(1.0, 4.0), tile_grid_size=(8, 8))\n"
          ]
        },
        {
          "output_type": "stream",
          "name": "stderr",
          "text": [
            "\u001b[34m\u001b[1mval: \u001b[0mScanning /content/Innowork-24-4/valid/labels... 1595 images, 0 backgrounds, 0 corrupt: 100%|██████████| 1595/1595 [00:03<00:00, 480.87it/s]"
          ]
        },
        {
          "output_type": "stream",
          "name": "stdout",
          "text": [
            "\u001b[34m\u001b[1mval: \u001b[0mNew cache created: /content/Innowork-24-4/valid/labels.cache\n",
            "WARNING ⚠️ Box and segment counts should be equal, but got len(segments) = 104, len(boxes) = 5592. To resolve this only boxes will be used and all segments will be removed. To avoid this please supply either a detect or segment dataset, not a detect-segment mixed dataset.\n"
          ]
        },
        {
          "output_type": "stream",
          "name": "stderr",
          "text": [
            "\n"
          ]
        },
        {
          "output_type": "stream",
          "name": "stdout",
          "text": [
            "Plotting labels to runs/detect/train/labels.jpg... \n",
            "\u001b[34m\u001b[1moptimizer:\u001b[0m 'optimizer=auto' found, ignoring 'lr0=0.01' and 'momentum=0.937' and determining best 'optimizer', 'lr0' and 'momentum' automatically... \n",
            "\u001b[34m\u001b[1moptimizer:\u001b[0m AdamW(lr=0.000526, momentum=0.9) with parameter groups 81 weight(decay=0.0), 88 weight(decay=0.0005), 87 bias(decay=0.0)\n",
            "\u001b[34m\u001b[1mTensorBoard: \u001b[0mmodel graph visualization added ✅\n",
            "Image sizes 640 train, 640 val\n",
            "Using 2 dataloader workers\n",
            "Logging results to \u001b[1mruns/detect/train\u001b[0m\n",
            "Starting training for 50 epochs...\n",
            "\n",
            "      Epoch    GPU_mem   box_loss   cls_loss   dfl_loss  Instances       Size\n"
          ]
        },
        {
          "output_type": "stream",
          "name": "stderr",
          "text": [
            "       1/50      2.57G      1.418       2.91      1.494         78        640: 100%|██████████| 390/390 [02:11<00:00,  2.97it/s]\n",
            "                 Class     Images  Instances      Box(P          R      mAP50  mAP50-95): 100%|██████████| 50/50 [00:18<00:00,  2.69it/s]\n"
          ]
        },
        {
          "output_type": "stream",
          "name": "stdout",
          "text": [
            "                   all       1595       5592      0.519      0.448      0.412       0.25\n",
            "\n",
            "      Epoch    GPU_mem   box_loss   cls_loss   dfl_loss  Instances       Size\n"
          ]
        },
        {
          "output_type": "stream",
          "name": "stderr",
          "text": [
            "       2/50      2.37G      1.341      1.848      1.419         61        640: 100%|██████████| 390/390 [02:08<00:00,  3.05it/s]\n",
            "                 Class     Images  Instances      Box(P          R      mAP50  mAP50-95): 100%|██████████| 50/50 [00:14<00:00,  3.34it/s]\n"
          ]
        },
        {
          "output_type": "stream",
          "name": "stdout",
          "text": [
            "                   all       1595       5592      0.421      0.482      0.411      0.251\n",
            "\n",
            "      Epoch    GPU_mem   box_loss   cls_loss   dfl_loss  Instances       Size\n"
          ]
        },
        {
          "output_type": "stream",
          "name": "stderr",
          "text": [
            "       3/50      2.28G      1.312      1.648      1.402         77        640: 100%|██████████| 390/390 [02:03<00:00,  3.16it/s]\n",
            "                 Class     Images  Instances      Box(P          R      mAP50  mAP50-95): 100%|██████████| 50/50 [00:15<00:00,  3.13it/s]\n"
          ]
        },
        {
          "output_type": "stream",
          "name": "stdout",
          "text": [
            "                   all       1595       5592      0.447      0.563      0.464      0.286\n",
            "\n",
            "      Epoch    GPU_mem   box_loss   cls_loss   dfl_loss  Instances       Size\n"
          ]
        },
        {
          "output_type": "stream",
          "name": "stderr",
          "text": [
            "       4/50      2.32G       1.29      1.504      1.388        119        640: 100%|██████████| 390/390 [02:01<00:00,  3.22it/s]\n",
            "                 Class     Images  Instances      Box(P          R      mAP50  mAP50-95): 100%|██████████| 50/50 [00:14<00:00,  3.42it/s]\n"
          ]
        },
        {
          "output_type": "stream",
          "name": "stdout",
          "text": [
            "                   all       1595       5592      0.492      0.546      0.497      0.303\n",
            "\n",
            "      Epoch    GPU_mem   box_loss   cls_loss   dfl_loss  Instances       Size\n"
          ]
        },
        {
          "output_type": "stream",
          "name": "stderr",
          "text": [
            "       5/50      2.32G      1.251      1.373      1.363         80        640: 100%|██████████| 390/390 [02:02<00:00,  3.17it/s]\n",
            "                 Class     Images  Instances      Box(P          R      mAP50  mAP50-95): 100%|██████████| 50/50 [00:16<00:00,  3.06it/s]"
          ]
        },
        {
          "output_type": "stream",
          "name": "stdout",
          "text": [
            "                   all       1595       5592      0.489       0.61      0.513       0.32\n"
          ]
        },
        {
          "output_type": "stream",
          "name": "stderr",
          "text": [
            "\n"
          ]
        },
        {
          "output_type": "stream",
          "name": "stdout",
          "text": [
            "\n",
            "      Epoch    GPU_mem   box_loss   cls_loss   dfl_loss  Instances       Size\n"
          ]
        },
        {
          "output_type": "stream",
          "name": "stderr",
          "text": [
            "       6/50      2.32G      1.232      1.289      1.343         65        640: 100%|██████████| 390/390 [02:01<00:00,  3.21it/s]\n",
            "                 Class     Images  Instances      Box(P          R      mAP50  mAP50-95): 100%|██████████| 50/50 [00:14<00:00,  3.41it/s]"
          ]
        },
        {
          "output_type": "stream",
          "name": "stdout",
          "text": [
            "                   all       1595       5592      0.505      0.576      0.519      0.327\n"
          ]
        },
        {
          "output_type": "stream",
          "name": "stderr",
          "text": [
            "\n"
          ]
        },
        {
          "output_type": "stream",
          "name": "stdout",
          "text": [
            "\n",
            "      Epoch    GPU_mem   box_loss   cls_loss   dfl_loss  Instances       Size\n"
          ]
        },
        {
          "output_type": "stream",
          "name": "stderr",
          "text": [
            "       7/50      2.35G      1.214      1.257      1.339         71        640: 100%|██████████| 390/390 [02:02<00:00,  3.18it/s]\n",
            "                 Class     Images  Instances      Box(P          R      mAP50  mAP50-95): 100%|██████████| 50/50 [00:15<00:00,  3.31it/s]\n"
          ]
        },
        {
          "output_type": "stream",
          "name": "stdout",
          "text": [
            "                   all       1595       5592      0.533      0.572      0.533      0.331\n",
            "\n",
            "      Epoch    GPU_mem   box_loss   cls_loss   dfl_loss  Instances       Size\n"
          ]
        },
        {
          "output_type": "stream",
          "name": "stderr",
          "text": [
            "       8/50      2.32G      1.199      1.196      1.327         71        640: 100%|██████████| 390/390 [02:02<00:00,  3.17it/s]\n",
            "                 Class     Images  Instances      Box(P          R      mAP50  mAP50-95): 100%|██████████| 50/50 [00:16<00:00,  2.98it/s]\n"
          ]
        },
        {
          "output_type": "stream",
          "name": "stdout",
          "text": [
            "                   all       1595       5592      0.491      0.648      0.542       0.34\n",
            "\n",
            "      Epoch    GPU_mem   box_loss   cls_loss   dfl_loss  Instances       Size\n"
          ]
        },
        {
          "output_type": "stream",
          "name": "stderr",
          "text": [
            "       9/50      2.44G       1.19      1.163      1.313         64        640: 100%|██████████| 390/390 [02:02<00:00,  3.19it/s]\n",
            "                 Class     Images  Instances      Box(P          R      mAP50  mAP50-95): 100%|██████████| 50/50 [00:14<00:00,  3.35it/s]"
          ]
        },
        {
          "output_type": "stream",
          "name": "stdout",
          "text": [
            "                   all       1595       5592      0.537      0.596      0.536      0.343\n"
          ]
        },
        {
          "output_type": "stream",
          "name": "stderr",
          "text": [
            "\n"
          ]
        },
        {
          "output_type": "stream",
          "name": "stdout",
          "text": [
            "\n",
            "      Epoch    GPU_mem   box_loss   cls_loss   dfl_loss  Instances       Size\n"
          ]
        },
        {
          "output_type": "stream",
          "name": "stderr",
          "text": [
            "      10/50      2.36G      1.181      1.141      1.308         71        640: 100%|██████████| 390/390 [02:05<00:00,  3.11it/s]\n",
            "                 Class     Images  Instances      Box(P          R      mAP50  mAP50-95): 100%|██████████| 50/50 [00:14<00:00,  3.38it/s]"
          ]
        },
        {
          "output_type": "stream",
          "name": "stdout",
          "text": [
            "                   all       1595       5592      0.519      0.635      0.547      0.351\n"
          ]
        },
        {
          "output_type": "stream",
          "name": "stderr",
          "text": [
            "\n"
          ]
        },
        {
          "output_type": "stream",
          "name": "stdout",
          "text": [
            "\n",
            "      Epoch    GPU_mem   box_loss   cls_loss   dfl_loss  Instances       Size\n"
          ]
        },
        {
          "output_type": "stream",
          "name": "stderr",
          "text": [
            "      11/50      2.37G      1.174      1.131      1.307         98        640: 100%|██████████| 390/390 [02:01<00:00,  3.21it/s]\n",
            "                 Class     Images  Instances      Box(P          R      mAP50  mAP50-95): 100%|██████████| 50/50 [00:14<00:00,  3.38it/s]\n"
          ]
        },
        {
          "output_type": "stream",
          "name": "stdout",
          "text": [
            "                   all       1595       5592      0.513       0.64       0.55      0.352\n",
            "\n",
            "      Epoch    GPU_mem   box_loss   cls_loss   dfl_loss  Instances       Size\n"
          ]
        },
        {
          "output_type": "stream",
          "name": "stderr",
          "text": [
            "      12/50      2.39G      1.157      1.081      1.289         76        640: 100%|██████████| 390/390 [02:02<00:00,  3.18it/s]\n",
            "                 Class     Images  Instances      Box(P          R      mAP50  mAP50-95): 100%|██████████| 50/50 [00:14<00:00,  3.39it/s]"
          ]
        },
        {
          "output_type": "stream",
          "name": "stdout",
          "text": [
            "                   all       1595       5592      0.551      0.606      0.565      0.368\n"
          ]
        },
        {
          "output_type": "stream",
          "name": "stderr",
          "text": [
            "\n"
          ]
        },
        {
          "output_type": "stream",
          "name": "stdout",
          "text": [
            "\n",
            "      Epoch    GPU_mem   box_loss   cls_loss   dfl_loss  Instances       Size\n"
          ]
        },
        {
          "output_type": "stream",
          "name": "stderr",
          "text": [
            "      13/50       2.5G      1.151      1.073      1.286         71        640: 100%|██████████| 390/390 [02:01<00:00,  3.21it/s]\n",
            "                 Class     Images  Instances      Box(P          R      mAP50  mAP50-95): 100%|██████████| 50/50 [00:15<00:00,  3.19it/s]\n"
          ]
        },
        {
          "output_type": "stream",
          "name": "stdout",
          "text": [
            "                   all       1595       5592      0.561      0.634      0.554      0.356\n",
            "\n",
            "      Epoch    GPU_mem   box_loss   cls_loss   dfl_loss  Instances       Size\n"
          ]
        },
        {
          "output_type": "stream",
          "name": "stderr",
          "text": [
            "      14/50      2.34G      1.137      1.053       1.28         61        640: 100%|██████████| 390/390 [02:02<00:00,  3.18it/s]\n",
            "                 Class     Images  Instances      Box(P          R      mAP50  mAP50-95): 100%|██████████| 50/50 [00:14<00:00,  3.41it/s]"
          ]
        },
        {
          "output_type": "stream",
          "name": "stdout",
          "text": [
            "                   all       1595       5592      0.504      0.672      0.563      0.368\n"
          ]
        },
        {
          "output_type": "stream",
          "name": "stderr",
          "text": [
            "\n"
          ]
        },
        {
          "output_type": "stream",
          "name": "stdout",
          "text": [
            "\n",
            "      Epoch    GPU_mem   box_loss   cls_loss   dfl_loss  Instances       Size\n"
          ]
        },
        {
          "output_type": "stream",
          "name": "stderr",
          "text": [
            "      15/50      2.38G      1.135      1.034      1.282         77        640: 100%|██████████| 390/390 [02:01<00:00,  3.20it/s]\n",
            "                 Class     Images  Instances      Box(P          R      mAP50  mAP50-95): 100%|██████████| 50/50 [00:15<00:00,  3.23it/s]\n"
          ]
        },
        {
          "output_type": "stream",
          "name": "stdout",
          "text": [
            "                   all       1595       5592      0.517      0.693      0.588      0.377\n",
            "\n",
            "      Epoch    GPU_mem   box_loss   cls_loss   dfl_loss  Instances       Size\n"
          ]
        },
        {
          "output_type": "stream",
          "name": "stderr",
          "text": [
            "      16/50      2.54G      1.118      1.005      1.268         76        640: 100%|██████████| 390/390 [02:00<00:00,  3.24it/s]\n",
            "                 Class     Images  Instances      Box(P          R      mAP50  mAP50-95): 100%|██████████| 50/50 [00:14<00:00,  3.38it/s]"
          ]
        },
        {
          "output_type": "stream",
          "name": "stdout",
          "text": [
            "                   all       1595       5592      0.522      0.673      0.567      0.367\n"
          ]
        },
        {
          "output_type": "stream",
          "name": "stderr",
          "text": [
            "\n"
          ]
        },
        {
          "output_type": "stream",
          "name": "stdout",
          "text": [
            "\n",
            "      Epoch    GPU_mem   box_loss   cls_loss   dfl_loss  Instances       Size\n"
          ]
        },
        {
          "output_type": "stream",
          "name": "stderr",
          "text": [
            "      17/50      2.41G      1.113      1.003      1.265         83        640: 100%|██████████| 390/390 [02:03<00:00,  3.15it/s]\n",
            "                 Class     Images  Instances      Box(P          R      mAP50  mAP50-95): 100%|██████████| 50/50 [00:15<00:00,  3.25it/s]\n"
          ]
        },
        {
          "output_type": "stream",
          "name": "stdout",
          "text": [
            "                   all       1595       5592       0.52      0.695      0.577      0.372\n",
            "\n",
            "      Epoch    GPU_mem   box_loss   cls_loss   dfl_loss  Instances       Size\n"
          ]
        },
        {
          "output_type": "stream",
          "name": "stderr",
          "text": [
            "      18/50      2.38G      1.111      0.993      1.268        145        640: 100%|██████████| 390/390 [02:02<00:00,  3.19it/s]\n",
            "                 Class     Images  Instances      Box(P          R      mAP50  mAP50-95): 100%|██████████| 50/50 [00:14<00:00,  3.39it/s]"
          ]
        },
        {
          "output_type": "stream",
          "name": "stdout",
          "text": [
            "                   all       1595       5592      0.529      0.673      0.562      0.367\n"
          ]
        },
        {
          "output_type": "stream",
          "name": "stderr",
          "text": [
            "\n"
          ]
        },
        {
          "output_type": "stream",
          "name": "stdout",
          "text": [
            "\n",
            "      Epoch    GPU_mem   box_loss   cls_loss   dfl_loss  Instances       Size\n"
          ]
        },
        {
          "output_type": "stream",
          "name": "stderr",
          "text": [
            "      19/50      2.33G      1.102      0.965      1.257         80        640: 100%|██████████| 390/390 [02:04<00:00,  3.13it/s]\n",
            "                 Class     Images  Instances      Box(P          R      mAP50  mAP50-95): 100%|██████████| 50/50 [00:15<00:00,  3.31it/s]"
          ]
        },
        {
          "output_type": "stream",
          "name": "stdout",
          "text": [
            "                   all       1595       5592      0.577      0.652      0.592      0.381\n"
          ]
        },
        {
          "output_type": "stream",
          "name": "stderr",
          "text": [
            "\n"
          ]
        },
        {
          "output_type": "stream",
          "name": "stdout",
          "text": [
            "\n",
            "      Epoch    GPU_mem   box_loss   cls_loss   dfl_loss  Instances       Size\n"
          ]
        },
        {
          "output_type": "stream",
          "name": "stderr",
          "text": [
            "      20/50      2.37G      1.099     0.9585       1.25         61        640: 100%|██████████| 390/390 [02:00<00:00,  3.24it/s]\n",
            "                 Class     Images  Instances      Box(P          R      mAP50  mAP50-95): 100%|██████████| 50/50 [00:15<00:00,  3.16it/s]"
          ]
        },
        {
          "output_type": "stream",
          "name": "stdout",
          "text": [
            "                   all       1595       5592       0.52      0.675      0.593       0.39\n"
          ]
        },
        {
          "output_type": "stream",
          "name": "stderr",
          "text": [
            "\n"
          ]
        },
        {
          "output_type": "stream",
          "name": "stdout",
          "text": [
            "\n",
            "      Epoch    GPU_mem   box_loss   cls_loss   dfl_loss  Instances       Size\n"
          ]
        },
        {
          "output_type": "stream",
          "name": "stderr",
          "text": [
            "      21/50      2.38G      1.086     0.9441      1.244         91        640: 100%|██████████| 390/390 [02:00<00:00,  3.23it/s]\n",
            "                 Class     Images  Instances      Box(P          R      mAP50  mAP50-95): 100%|██████████| 50/50 [00:15<00:00,  3.23it/s]"
          ]
        },
        {
          "output_type": "stream",
          "name": "stdout",
          "text": [
            "                   all       1595       5592      0.526       0.68      0.581      0.378\n"
          ]
        },
        {
          "output_type": "stream",
          "name": "stderr",
          "text": [
            "\n"
          ]
        },
        {
          "output_type": "stream",
          "name": "stdout",
          "text": [
            "\n",
            "      Epoch    GPU_mem   box_loss   cls_loss   dfl_loss  Instances       Size\n"
          ]
        },
        {
          "output_type": "stream",
          "name": "stderr",
          "text": [
            "      22/50      2.35G      1.085     0.9351      1.244         68        640: 100%|██████████| 390/390 [02:02<00:00,  3.19it/s]\n",
            "                 Class     Images  Instances      Box(P          R      mAP50  mAP50-95): 100%|██████████| 50/50 [00:14<00:00,  3.40it/s]"
          ]
        },
        {
          "output_type": "stream",
          "name": "stdout",
          "text": [
            "                   all       1595       5592       0.55      0.694      0.592      0.388\n"
          ]
        },
        {
          "output_type": "stream",
          "name": "stderr",
          "text": [
            "\n"
          ]
        },
        {
          "output_type": "stream",
          "name": "stdout",
          "text": [
            "\n",
            "      Epoch    GPU_mem   box_loss   cls_loss   dfl_loss  Instances       Size\n"
          ]
        },
        {
          "output_type": "stream",
          "name": "stderr",
          "text": [
            "      23/50      2.43G       1.08     0.9275      1.237         68        640: 100%|██████████| 390/390 [02:01<00:00,  3.21it/s]\n",
            "                 Class     Images  Instances      Box(P          R      mAP50  mAP50-95): 100%|██████████| 50/50 [00:15<00:00,  3.15it/s]"
          ]
        },
        {
          "output_type": "stream",
          "name": "stdout",
          "text": [
            "                   all       1595       5592      0.561      0.666      0.603      0.395\n"
          ]
        },
        {
          "output_type": "stream",
          "name": "stderr",
          "text": [
            "\n"
          ]
        },
        {
          "output_type": "stream",
          "name": "stdout",
          "text": [
            "\n",
            "      Epoch    GPU_mem   box_loss   cls_loss   dfl_loss  Instances       Size\n"
          ]
        },
        {
          "output_type": "stream",
          "name": "stderr",
          "text": [
            "      24/50      2.38G      1.062     0.9064       1.23         81        640: 100%|██████████| 390/390 [02:02<00:00,  3.18it/s]\n",
            "                 Class     Images  Instances      Box(P          R      mAP50  mAP50-95): 100%|██████████| 50/50 [00:14<00:00,  3.39it/s]"
          ]
        },
        {
          "output_type": "stream",
          "name": "stdout",
          "text": [
            "                   all       1595       5592      0.545      0.685      0.618      0.409\n"
          ]
        },
        {
          "output_type": "stream",
          "name": "stderr",
          "text": [
            "\n"
          ]
        },
        {
          "output_type": "stream",
          "name": "stdout",
          "text": [
            "\n",
            "      Epoch    GPU_mem   box_loss   cls_loss   dfl_loss  Instances       Size\n"
          ]
        },
        {
          "output_type": "stream",
          "name": "stderr",
          "text": [
            "      25/50      2.36G      1.065      0.903      1.232         92        640: 100%|██████████| 390/390 [02:01<00:00,  3.21it/s]\n",
            "                 Class     Images  Instances      Box(P          R      mAP50  mAP50-95): 100%|██████████| 50/50 [00:15<00:00,  3.20it/s]"
          ]
        },
        {
          "output_type": "stream",
          "name": "stdout",
          "text": [
            "                   all       1595       5592      0.557      0.722      0.625      0.407\n"
          ]
        },
        {
          "output_type": "stream",
          "name": "stderr",
          "text": [
            "\n"
          ]
        },
        {
          "output_type": "stream",
          "name": "stdout",
          "text": [
            "\n",
            "      Epoch    GPU_mem   box_loss   cls_loss   dfl_loss  Instances       Size\n"
          ]
        },
        {
          "output_type": "stream",
          "name": "stderr",
          "text": [
            "      26/50      2.46G      1.049     0.8876      1.229         80        640: 100%|██████████| 390/390 [02:00<00:00,  3.23it/s]\n",
            "                 Class     Images  Instances      Box(P          R      mAP50  mAP50-95): 100%|██████████| 50/50 [00:14<00:00,  3.39it/s]"
          ]
        },
        {
          "output_type": "stream",
          "name": "stdout",
          "text": [
            "                   all       1595       5592      0.535      0.714      0.629      0.412\n"
          ]
        },
        {
          "output_type": "stream",
          "name": "stderr",
          "text": [
            "\n"
          ]
        },
        {
          "output_type": "stream",
          "name": "stdout",
          "text": [
            "\n",
            "      Epoch    GPU_mem   box_loss   cls_loss   dfl_loss  Instances       Size\n"
          ]
        },
        {
          "output_type": "stream",
          "name": "stderr",
          "text": [
            "      27/50      2.41G      1.059     0.8896      1.227        130        640: 100%|██████████| 390/390 [02:03<00:00,  3.16it/s]\n",
            "                 Class     Images  Instances      Box(P          R      mAP50  mAP50-95): 100%|██████████| 50/50 [00:15<00:00,  3.28it/s]"
          ]
        },
        {
          "output_type": "stream",
          "name": "stdout",
          "text": [
            "                   all       1595       5592      0.558      0.687      0.606      0.394\n"
          ]
        },
        {
          "output_type": "stream",
          "name": "stderr",
          "text": [
            "\n"
          ]
        },
        {
          "output_type": "stream",
          "name": "stdout",
          "text": [
            "\n",
            "      Epoch    GPU_mem   box_loss   cls_loss   dfl_loss  Instances       Size\n"
          ]
        },
        {
          "output_type": "stream",
          "name": "stderr",
          "text": [
            "      28/50      2.34G      1.048     0.8836      1.226         73        640: 100%|██████████| 390/390 [02:01<00:00,  3.21it/s]\n",
            "                 Class     Images  Instances      Box(P          R      mAP50  mAP50-95): 100%|██████████| 50/50 [00:14<00:00,  3.38it/s]"
          ]
        },
        {
          "output_type": "stream",
          "name": "stdout",
          "text": [
            "                   all       1595       5592      0.539      0.707      0.612      0.401\n"
          ]
        },
        {
          "output_type": "stream",
          "name": "stderr",
          "text": [
            "\n"
          ]
        },
        {
          "output_type": "stream",
          "name": "stdout",
          "text": [
            "\n",
            "      Epoch    GPU_mem   box_loss   cls_loss   dfl_loss  Instances       Size\n"
          ]
        },
        {
          "output_type": "stream",
          "name": "stderr",
          "text": [
            "      29/50      2.43G      1.049     0.8804      1.219         86        640: 100%|██████████| 390/390 [02:04<00:00,  3.14it/s]\n",
            "                 Class     Images  Instances      Box(P          R      mAP50  mAP50-95): 100%|██████████| 50/50 [00:14<00:00,  3.38it/s]"
          ]
        },
        {
          "output_type": "stream",
          "name": "stdout",
          "text": [
            "                   all       1595       5592      0.561      0.656      0.598      0.392\n"
          ]
        },
        {
          "output_type": "stream",
          "name": "stderr",
          "text": [
            "\n"
          ]
        },
        {
          "output_type": "stream",
          "name": "stdout",
          "text": [
            "\n",
            "      Epoch    GPU_mem   box_loss   cls_loss   dfl_loss  Instances       Size\n"
          ]
        },
        {
          "output_type": "stream",
          "name": "stderr",
          "text": [
            "      30/50      2.35G      1.045     0.8676      1.213         94        640: 100%|██████████| 390/390 [02:00<00:00,  3.24it/s]\n",
            "                 Class     Images  Instances      Box(P          R      mAP50  mAP50-95): 100%|██████████| 50/50 [00:14<00:00,  3.44it/s]"
          ]
        },
        {
          "output_type": "stream",
          "name": "stdout",
          "text": [
            "                   all       1595       5592      0.562      0.676      0.621      0.412\n"
          ]
        },
        {
          "output_type": "stream",
          "name": "stderr",
          "text": [
            "\n"
          ]
        },
        {
          "output_type": "stream",
          "name": "stdout",
          "text": [
            "\n",
            "      Epoch    GPU_mem   box_loss   cls_loss   dfl_loss  Instances       Size\n"
          ]
        },
        {
          "output_type": "stream",
          "name": "stderr",
          "text": [
            "      31/50      2.33G       1.04     0.8522      1.211         80        640: 100%|██████████| 390/390 [02:03<00:00,  3.16it/s]\n",
            "                 Class     Images  Instances      Box(P          R      mAP50  mAP50-95): 100%|██████████| 50/50 [00:14<00:00,  3.34it/s]"
          ]
        },
        {
          "output_type": "stream",
          "name": "stdout",
          "text": [
            "                   all       1595       5592      0.551      0.674      0.602      0.401\n"
          ]
        },
        {
          "output_type": "stream",
          "name": "stderr",
          "text": [
            "\n"
          ]
        },
        {
          "output_type": "stream",
          "name": "stdout",
          "text": [
            "\n",
            "      Epoch    GPU_mem   box_loss   cls_loss   dfl_loss  Instances       Size\n"
          ]
        },
        {
          "output_type": "stream",
          "name": "stderr",
          "text": [
            "      32/50      2.33G      1.029     0.8518      1.204         73        640: 100%|██████████| 390/390 [02:03<00:00,  3.16it/s]\n",
            "                 Class     Images  Instances      Box(P          R      mAP50  mAP50-95): 100%|██████████| 50/50 [00:14<00:00,  3.40it/s]"
          ]
        },
        {
          "output_type": "stream",
          "name": "stdout",
          "text": [
            "                   all       1595       5592      0.544      0.697      0.602        0.4\n"
          ]
        },
        {
          "output_type": "stream",
          "name": "stderr",
          "text": [
            "\n"
          ]
        },
        {
          "output_type": "stream",
          "name": "stdout",
          "text": [
            "\n",
            "      Epoch    GPU_mem   box_loss   cls_loss   dfl_loss  Instances       Size\n"
          ]
        },
        {
          "output_type": "stream",
          "name": "stderr",
          "text": [
            "      33/50      2.37G      1.029     0.8467      1.207        100        640: 100%|██████████| 390/390 [02:01<00:00,  3.21it/s]\n",
            "                 Class     Images  Instances      Box(P          R      mAP50  mAP50-95): 100%|██████████| 50/50 [00:15<00:00,  3.22it/s]"
          ]
        },
        {
          "output_type": "stream",
          "name": "stdout",
          "text": [
            "                   all       1595       5592      0.545      0.744      0.624      0.411\n"
          ]
        },
        {
          "output_type": "stream",
          "name": "stderr",
          "text": [
            "\n"
          ]
        },
        {
          "output_type": "stream",
          "name": "stdout",
          "text": [
            "\n",
            "      Epoch    GPU_mem   box_loss   cls_loss   dfl_loss  Instances       Size\n"
          ]
        },
        {
          "output_type": "stream",
          "name": "stderr",
          "text": [
            "      34/50      2.39G      1.032     0.8443      1.208         80        640: 100%|██████████| 390/390 [02:04<00:00,  3.12it/s]\n",
            "                 Class     Images  Instances      Box(P          R      mAP50  mAP50-95): 100%|██████████| 50/50 [00:14<00:00,  3.42it/s]"
          ]
        },
        {
          "output_type": "stream",
          "name": "stdout",
          "text": [
            "                   all       1595       5592      0.527      0.717      0.598      0.399\n"
          ]
        },
        {
          "output_type": "stream",
          "name": "stderr",
          "text": [
            "\n"
          ]
        },
        {
          "output_type": "stream",
          "name": "stdout",
          "text": [
            "\n",
            "      Epoch    GPU_mem   box_loss   cls_loss   dfl_loss  Instances       Size\n"
          ]
        },
        {
          "output_type": "stream",
          "name": "stderr",
          "text": [
            "      35/50      2.33G      1.011     0.8159      1.198        113        640: 100%|██████████| 390/390 [02:00<00:00,  3.23it/s]\n",
            "                 Class     Images  Instances      Box(P          R      mAP50  mAP50-95): 100%|██████████| 50/50 [00:14<00:00,  3.42it/s]"
          ]
        },
        {
          "output_type": "stream",
          "name": "stdout",
          "text": [
            "                   all       1595       5592      0.547      0.713      0.595      0.396\n"
          ]
        },
        {
          "output_type": "stream",
          "name": "stderr",
          "text": [
            "\n"
          ]
        },
        {
          "output_type": "stream",
          "name": "stdout",
          "text": [
            "\n",
            "      Epoch    GPU_mem   box_loss   cls_loss   dfl_loss  Instances       Size\n"
          ]
        },
        {
          "output_type": "stream",
          "name": "stderr",
          "text": [
            "      36/50      2.32G      1.017     0.8252      1.196         78        640: 100%|██████████| 390/390 [02:01<00:00,  3.22it/s]\n",
            "                 Class     Images  Instances      Box(P          R      mAP50  mAP50-95): 100%|██████████| 50/50 [00:14<00:00,  3.41it/s]"
          ]
        },
        {
          "output_type": "stream",
          "name": "stdout",
          "text": [
            "                   all       1595       5592      0.547      0.719      0.604      0.402\n"
          ]
        },
        {
          "output_type": "stream",
          "name": "stderr",
          "text": [
            "\n"
          ]
        },
        {
          "output_type": "stream",
          "name": "stdout",
          "text": [
            "\n",
            "      Epoch    GPU_mem   box_loss   cls_loss   dfl_loss  Instances       Size\n"
          ]
        },
        {
          "output_type": "stream",
          "name": "stderr",
          "text": [
            "      37/50      2.33G      1.007     0.8159      1.196         82        640: 100%|██████████| 390/390 [02:08<00:00,  3.04it/s]\n",
            "                 Class     Images  Instances      Box(P          R      mAP50  mAP50-95): 100%|██████████| 50/50 [00:14<00:00,  3.43it/s]"
          ]
        },
        {
          "output_type": "stream",
          "name": "stdout",
          "text": [
            "                   all       1595       5592      0.561      0.698      0.607      0.402\n"
          ]
        },
        {
          "output_type": "stream",
          "name": "stderr",
          "text": [
            "\n"
          ]
        },
        {
          "output_type": "stream",
          "name": "stdout",
          "text": [
            "\n",
            "      Epoch    GPU_mem   box_loss   cls_loss   dfl_loss  Instances       Size\n"
          ]
        },
        {
          "output_type": "stream",
          "name": "stderr",
          "text": [
            "      38/50      2.36G      1.002      0.819      1.192         68        640: 100%|██████████| 390/390 [02:00<00:00,  3.24it/s]\n",
            "                 Class     Images  Instances      Box(P          R      mAP50  mAP50-95): 100%|██████████| 50/50 [00:15<00:00,  3.28it/s]"
          ]
        },
        {
          "output_type": "stream",
          "name": "stdout",
          "text": [
            "                   all       1595       5592      0.543      0.708      0.607      0.402\n"
          ]
        },
        {
          "output_type": "stream",
          "name": "stderr",
          "text": [
            "\n"
          ]
        },
        {
          "output_type": "stream",
          "name": "stdout",
          "text": [
            "\n",
            "      Epoch    GPU_mem   box_loss   cls_loss   dfl_loss  Instances       Size\n"
          ]
        },
        {
          "output_type": "stream",
          "name": "stderr",
          "text": [
            "      39/50      2.37G     0.9946     0.8083      1.191         69        640: 100%|██████████| 390/390 [02:00<00:00,  3.23it/s]\n",
            "                 Class     Images  Instances      Box(P          R      mAP50  mAP50-95): 100%|██████████| 50/50 [00:14<00:00,  3.40it/s]"
          ]
        },
        {
          "output_type": "stream",
          "name": "stdout",
          "text": [
            "                   all       1595       5592      0.567      0.691      0.619      0.412\n"
          ]
        },
        {
          "output_type": "stream",
          "name": "stderr",
          "text": [
            "\n"
          ]
        },
        {
          "output_type": "stream",
          "name": "stdout",
          "text": [
            "\n",
            "      Epoch    GPU_mem   box_loss   cls_loss   dfl_loss  Instances       Size\n"
          ]
        },
        {
          "output_type": "stream",
          "name": "stderr",
          "text": [
            "      40/50      2.32G     0.9942     0.7933      1.185         80        640: 100%|██████████| 390/390 [02:01<00:00,  3.22it/s]\n",
            "                 Class     Images  Instances      Box(P          R      mAP50  mAP50-95): 100%|██████████| 50/50 [00:14<00:00,  3.43it/s]"
          ]
        },
        {
          "output_type": "stream",
          "name": "stdout",
          "text": [
            "                   all       1595       5592      0.544      0.723      0.605      0.404\n"
          ]
        },
        {
          "output_type": "stream",
          "name": "stderr",
          "text": [
            "\n"
          ]
        },
        {
          "output_type": "stream",
          "name": "stdout",
          "text": [
            "Closing dataloader mosaic\n",
            "\u001b[34m\u001b[1malbumentations: \u001b[0mBlur(p=0.01, blur_limit=(3, 7)), MedianBlur(p=0.01, blur_limit=(3, 7)), ToGray(p=0.01, num_output_channels=3, method='weighted_average'), CLAHE(p=0.01, clip_limit=(1.0, 4.0), tile_grid_size=(8, 8))\n",
            "\n",
            "      Epoch    GPU_mem   box_loss   cls_loss   dfl_loss  Instances       Size\n"
          ]
        },
        {
          "output_type": "stream",
          "name": "stderr",
          "text": [
            "      41/50      2.37G      1.015     0.7655      1.235         67        640: 100%|██████████| 390/390 [01:59<00:00,  3.27it/s]\n",
            "                 Class     Images  Instances      Box(P          R      mAP50  mAP50-95): 100%|██████████| 50/50 [00:15<00:00,  3.30it/s]"
          ]
        },
        {
          "output_type": "stream",
          "name": "stdout",
          "text": [
            "                   all       1595       5592      0.536      0.728      0.597      0.397\n"
          ]
        },
        {
          "output_type": "stream",
          "name": "stderr",
          "text": [
            "\n"
          ]
        },
        {
          "output_type": "stream",
          "name": "stdout",
          "text": [
            "\n",
            "      Epoch    GPU_mem   box_loss   cls_loss   dfl_loss  Instances       Size\n"
          ]
        },
        {
          "output_type": "stream",
          "name": "stderr",
          "text": [
            "      42/50      2.38G     0.9992     0.7423      1.227         44        640: 100%|██████████| 390/390 [01:56<00:00,  3.36it/s]\n",
            "                 Class     Images  Instances      Box(P          R      mAP50  mAP50-95): 100%|██████████| 50/50 [00:16<00:00,  3.10it/s]"
          ]
        },
        {
          "output_type": "stream",
          "name": "stdout",
          "text": [
            "                   all       1595       5592      0.553      0.717      0.604      0.402\n"
          ]
        },
        {
          "output_type": "stream",
          "name": "stderr",
          "text": [
            "\n"
          ]
        },
        {
          "output_type": "stream",
          "name": "stdout",
          "text": [
            "\n",
            "      Epoch    GPU_mem   box_loss   cls_loss   dfl_loss  Instances       Size\n"
          ]
        },
        {
          "output_type": "stream",
          "name": "stderr",
          "text": [
            "      43/50       2.4G     0.9958     0.7364      1.217         48        640: 100%|██████████| 390/390 [02:00<00:00,  3.24it/s]\n",
            "                 Class     Images  Instances      Box(P          R      mAP50  mAP50-95): 100%|██████████| 50/50 [00:16<00:00,  3.05it/s]"
          ]
        },
        {
          "output_type": "stream",
          "name": "stdout",
          "text": [
            "                   all       1595       5592       0.55      0.725      0.596      0.399\n"
          ]
        },
        {
          "output_type": "stream",
          "name": "stderr",
          "text": [
            "\n"
          ]
        },
        {
          "output_type": "stream",
          "name": "stdout",
          "text": [
            "\n",
            "      Epoch    GPU_mem   box_loss   cls_loss   dfl_loss  Instances       Size\n"
          ]
        },
        {
          "output_type": "stream",
          "name": "stderr",
          "text": [
            "      44/50      2.33G     0.9875      0.728      1.212         50        640: 100%|██████████| 390/390 [02:00<00:00,  3.24it/s]\n",
            "                 Class     Images  Instances      Box(P          R      mAP50  mAP50-95): 100%|██████████| 50/50 [00:16<00:00,  3.09it/s]"
          ]
        },
        {
          "output_type": "stream",
          "name": "stdout",
          "text": [
            "                   all       1595       5592      0.554       0.71       0.61      0.406\n"
          ]
        },
        {
          "output_type": "stream",
          "name": "stderr",
          "text": [
            "\n"
          ]
        },
        {
          "output_type": "stream",
          "name": "stdout",
          "text": [
            "\n",
            "      Epoch    GPU_mem   box_loss   cls_loss   dfl_loss  Instances       Size\n"
          ]
        },
        {
          "output_type": "stream",
          "name": "stderr",
          "text": [
            "      45/50      2.34G     0.9807     0.7197      1.209         44        640: 100%|██████████| 390/390 [02:01<00:00,  3.21it/s]\n",
            "                 Class     Images  Instances      Box(P          R      mAP50  mAP50-95): 100%|██████████| 50/50 [00:14<00:00,  3.38it/s]"
          ]
        },
        {
          "output_type": "stream",
          "name": "stdout",
          "text": [
            "                   all       1595       5592      0.558       0.71      0.616      0.412\n"
          ]
        },
        {
          "output_type": "stream",
          "name": "stderr",
          "text": [
            "\n"
          ]
        },
        {
          "output_type": "stream",
          "name": "stdout",
          "text": [
            "\n",
            "      Epoch    GPU_mem   box_loss   cls_loss   dfl_loss  Instances       Size\n"
          ]
        },
        {
          "output_type": "stream",
          "name": "stderr",
          "text": [
            "      46/50      2.33G     0.9742     0.7094        1.2         47        640: 100%|██████████| 390/390 [01:58<00:00,  3.28it/s]\n",
            "                 Class     Images  Instances      Box(P          R      mAP50  mAP50-95): 100%|██████████| 50/50 [00:14<00:00,  3.35it/s]"
          ]
        },
        {
          "output_type": "stream",
          "name": "stdout",
          "text": [
            "                   all       1595       5592      0.555      0.714      0.616      0.413\n"
          ]
        },
        {
          "output_type": "stream",
          "name": "stderr",
          "text": [
            "\n"
          ]
        },
        {
          "output_type": "stream",
          "name": "stdout",
          "text": [
            "\n",
            "      Epoch    GPU_mem   box_loss   cls_loss   dfl_loss  Instances       Size\n"
          ]
        },
        {
          "output_type": "stream",
          "name": "stderr",
          "text": [
            "      47/50      2.32G     0.9738     0.7066      1.198         36        640: 100%|██████████| 390/390 [01:56<00:00,  3.35it/s]\n",
            "                 Class     Images  Instances      Box(P          R      mAP50  mAP50-95): 100%|██████████| 50/50 [00:15<00:00,  3.18it/s]"
          ]
        },
        {
          "output_type": "stream",
          "name": "stdout",
          "text": [
            "                   all       1595       5592      0.558      0.706      0.614      0.412\n"
          ]
        },
        {
          "output_type": "stream",
          "name": "stderr",
          "text": [
            "\n"
          ]
        },
        {
          "output_type": "stream",
          "name": "stdout",
          "text": [
            "\n",
            "      Epoch    GPU_mem   box_loss   cls_loss   dfl_loss  Instances       Size\n"
          ]
        },
        {
          "output_type": "stream",
          "name": "stderr",
          "text": [
            "      48/50      2.32G     0.9642     0.7021      1.197         49        640: 100%|██████████| 390/390 [01:57<00:00,  3.32it/s]\n",
            "                 Class     Images  Instances      Box(P          R      mAP50  mAP50-95): 100%|██████████| 50/50 [00:14<00:00,  3.37it/s]"
          ]
        },
        {
          "output_type": "stream",
          "name": "stdout",
          "text": [
            "                   all       1595       5592      0.553      0.711      0.604      0.406\n"
          ]
        },
        {
          "output_type": "stream",
          "name": "stderr",
          "text": [
            "\n"
          ]
        },
        {
          "output_type": "stream",
          "name": "stdout",
          "text": [
            "\n",
            "      Epoch    GPU_mem   box_loss   cls_loss   dfl_loss  Instances       Size\n"
          ]
        },
        {
          "output_type": "stream",
          "name": "stderr",
          "text": [
            "      49/50       2.4G     0.9577     0.6951      1.192         52        640: 100%|██████████| 390/390 [01:57<00:00,  3.31it/s]\n",
            "                 Class     Images  Instances      Box(P          R      mAP50  mAP50-95): 100%|██████████| 50/50 [00:15<00:00,  3.17it/s]"
          ]
        },
        {
          "output_type": "stream",
          "name": "stdout",
          "text": [
            "                   all       1595       5592      0.561      0.705      0.606      0.407\n"
          ]
        },
        {
          "output_type": "stream",
          "name": "stderr",
          "text": [
            "\n"
          ]
        },
        {
          "output_type": "stream",
          "name": "stdout",
          "text": [
            "\n",
            "      Epoch    GPU_mem   box_loss   cls_loss   dfl_loss  Instances       Size\n"
          ]
        },
        {
          "output_type": "stream",
          "name": "stderr",
          "text": [
            "      50/50      2.33G     0.9588     0.6928       1.19         56        640: 100%|██████████| 390/390 [01:58<00:00,  3.29it/s]\n",
            "                 Class     Images  Instances      Box(P          R      mAP50  mAP50-95): 100%|██████████| 50/50 [00:14<00:00,  3.37it/s]"
          ]
        },
        {
          "output_type": "stream",
          "name": "stdout",
          "text": [
            "                   all       1595       5592      0.562      0.705      0.606      0.407\n"
          ]
        },
        {
          "output_type": "stream",
          "name": "stderr",
          "text": [
            "\n"
          ]
        },
        {
          "output_type": "stream",
          "name": "stdout",
          "text": [
            "\n",
            "50 epochs completed in 1.920 hours.\n",
            "Optimizer stripped from runs/detect/train/weights/last.pt, 5.5MB\n",
            "Optimizer stripped from runs/detect/train/weights/best.pt, 5.5MB\n",
            "\n",
            "Validating runs/detect/train/weights/best.pt...\n",
            "Ultralytics 8.3.85 🚀 Python-3.11.11 torch-2.5.1+cu124 CUDA:0 (Tesla T4, 15095MiB)\n",
            "YOLO11n summary (fused): 100 layers, 2,585,077 parameters, 0 gradients, 6.3 GFLOPs\n"
          ]
        },
        {
          "output_type": "stream",
          "name": "stderr",
          "text": [
            "                 Class     Images  Instances      Box(P          R      mAP50  mAP50-95): 100%|██████████| 50/50 [00:17<00:00,  2.81it/s]\n"
          ]
        },
        {
          "output_type": "stream",
          "name": "stdout",
          "text": [
            "                   all       1595       5592      0.535      0.716      0.629      0.412\n",
            "        Ear Protection         92        147      0.488      0.612      0.462      0.189\n",
            "               Glasses        172        179      0.425      0.777      0.421      0.211\n",
            "                Gloves        448        840      0.764       0.82      0.815      0.499\n",
            "                Helmet        586        689      0.827      0.904      0.884      0.596\n",
            "                  Mask        364        409       0.64      0.617      0.721      0.403\n",
            "                Person        704        782      0.759      0.965      0.925      0.765\n",
            "          Safety Shoes        310        635      0.573      0.603      0.669      0.463\n",
            "                  Vest        464        604      0.779      0.892      0.877      0.573\n",
            "Without Ear Protection        106        124      0.285      0.677      0.521      0.249\n",
            "       Without Glasses        103        112      0.392      0.893      0.666      0.383\n",
            "         Without Glove          7         12      0.013      0.167     0.0139     0.0053\n",
            "        Without Helmet        255        325      0.471      0.641      0.607      0.431\n",
            "          Without Mask        133        186      0.483      0.586      0.617       0.48\n",
            "  Without Safety Shoes         63        126        0.2      0.857      0.394      0.281\n",
            "          Without Vest        361        422      0.925       0.72      0.844      0.655\n",
            "Speed: 0.3ms preprocess, 2.4ms inference, 0.0ms loss, 2.1ms postprocess per image\n",
            "Results saved to \u001b[1mruns/detect/train\u001b[0m\n"
          ]
        }
      ]
    },
    {
      "cell_type": "markdown",
      "source": [
        "# Validate the model after training it."
      ],
      "metadata": {
        "id": "BMzvsb06HXbW"
      }
    },
    {
      "cell_type": "code",
      "source": [
        "# Load trained model\n",
        "model = YOLO(\"/content/best.pt\")\n",
        "\n",
        "def validate_model(model, data_yaml):\n",
        "    \"\"\"Validate the trained model\"\"\"\n",
        "    return model.val(data=data_yaml)\n",
        "\n",
        "validation_results = validate_model(model, \"/content/Innowork-24-4/data.yaml\")\n",
        "print(validation_results)"
      ],
      "metadata": {
        "colab": {
          "base_uri": "https://localhost:8080/"
        },
        "id": "2r_-azwm319T",
        "outputId": "7c37e0d7-1c59-4c01-b343-322cb65d6aab"
      },
      "execution_count": 4,
      "outputs": [
        {
          "output_type": "stream",
          "name": "stdout",
          "text": [
            "Ultralytics 8.3.91 🚀 Python-3.11.11 torch-2.6.0+cu124 CUDA:0 (Tesla T4, 15095MiB)\n",
            "YOLO11n summary (fused): 100 layers, 2,585,077 parameters, 0 gradients, 6.3 GFLOPs\n",
            "Downloading https://ultralytics.com/assets/Arial.ttf to '/root/.config/Ultralytics/Arial.ttf'...\n"
          ]
        },
        {
          "output_type": "stream",
          "name": "stderr",
          "text": [
            "100%|██████████| 755k/755k [00:00<00:00, 20.0MB/s]\n",
            "\u001b[34m\u001b[1mval: \u001b[0mScanning /content/Innowork-24-4/valid/labels... 1595 images, 0 backgrounds, 0 corrupt: 100%|██████████| 1595/1595 [00:00<00:00, 2098.89it/s]"
          ]
        },
        {
          "output_type": "stream",
          "name": "stdout",
          "text": [
            "\u001b[34m\u001b[1mval: \u001b[0mNew cache created: /content/Innowork-24-4/valid/labels.cache\n",
            "WARNING ⚠️ Box and segment counts should be equal, but got len(segments) = 104, len(boxes) = 5592. To resolve this only boxes will be used and all segments will be removed. To avoid this please supply either a detect or segment dataset, not a detect-segment mixed dataset.\n"
          ]
        },
        {
          "output_type": "stream",
          "name": "stderr",
          "text": [
            "\n",
            "                 Class     Images  Instances      Box(P          R      mAP50  mAP50-95): 100%|██████████| 100/100 [00:19<00:00,  5.20it/s]\n"
          ]
        },
        {
          "output_type": "stream",
          "name": "stdout",
          "text": [
            "                   all       1595       5592      0.536      0.715      0.629      0.413\n",
            "        Ear Protection         92        147      0.488      0.612      0.467      0.191\n",
            "               Glasses        172        179      0.425      0.777       0.42       0.21\n",
            "                Gloves        448        840      0.767       0.82      0.815      0.499\n",
            "                Helmet        586        689      0.826      0.903      0.882      0.597\n",
            "                  Mask        364        409      0.639      0.614      0.722      0.402\n",
            "                Person        704        782      0.761      0.965      0.925      0.765\n",
            "          Safety Shoes        310        635      0.574      0.603       0.67      0.463\n",
            "                  Vest        464        604      0.779      0.892      0.877      0.573\n",
            "Without Ear Protection        106        124      0.284      0.669      0.521      0.249\n",
            "       Without Glasses        103        112      0.391      0.893      0.666      0.382\n",
            "         Without Glove          7         12     0.0131      0.167     0.0141    0.00537\n",
            "        Without Helmet        255        325      0.472       0.64      0.607       0.43\n",
            "          Without Mask        133        186      0.489      0.586      0.618       0.48\n",
            "  Without Safety Shoes         63        126      0.201      0.857      0.395      0.285\n",
            "          Without Vest        361        422      0.925       0.72      0.842      0.656\n",
            "Speed: 0.5ms preprocess, 3.9ms inference, 0.0ms loss, 1.1ms postprocess per image\n",
            "Results saved to \u001b[1mruns/detect/val\u001b[0m\n",
            "ultralytics.utils.metrics.DetMetrics object with attributes:\n",
            "\n",
            "ap_class_index: array([ 0,  1,  2,  3,  4,  5,  6,  7,  8,  9, 10, 11, 12, 13, 14])\n",
            "box: ultralytics.utils.metrics.Metric object\n",
            "confusion_matrix: <ultralytics.utils.metrics.ConfusionMatrix object at 0x7a1b79a61a90>\n",
            "curves: ['Precision-Recall(B)', 'F1-Confidence(B)', 'Precision-Confidence(B)', 'Recall-Confidence(B)']\n",
            "curves_results: [[array([          0,    0.001001,    0.002002,    0.003003,    0.004004,    0.005005,    0.006006,    0.007007,    0.008008,    0.009009,     0.01001,    0.011011,    0.012012,    0.013013,    0.014014,    0.015015,    0.016016,    0.017017,    0.018018,    0.019019,     0.02002,    0.021021,    0.022022,    0.023023,\n",
            "          0.024024,    0.025025,    0.026026,    0.027027,    0.028028,    0.029029,     0.03003,    0.031031,    0.032032,    0.033033,    0.034034,    0.035035,    0.036036,    0.037037,    0.038038,    0.039039,     0.04004,    0.041041,    0.042042,    0.043043,    0.044044,    0.045045,    0.046046,    0.047047,\n",
            "          0.048048,    0.049049,     0.05005,    0.051051,    0.052052,    0.053053,    0.054054,    0.055055,    0.056056,    0.057057,    0.058058,    0.059059,     0.06006,    0.061061,    0.062062,    0.063063,    0.064064,    0.065065,    0.066066,    0.067067,    0.068068,    0.069069,     0.07007,    0.071071,\n",
            "          0.072072,    0.073073,    0.074074,    0.075075,    0.076076,    0.077077,    0.078078,    0.079079,     0.08008,    0.081081,    0.082082,    0.083083,    0.084084,    0.085085,    0.086086,    0.087087,    0.088088,    0.089089,     0.09009,    0.091091,    0.092092,    0.093093,    0.094094,    0.095095,\n",
            "          0.096096,    0.097097,    0.098098,    0.099099,      0.1001,      0.1011,      0.1021,      0.1031,      0.1041,     0.10511,     0.10611,     0.10711,     0.10811,     0.10911,     0.11011,     0.11111,     0.11211,     0.11311,     0.11411,     0.11512,     0.11612,     0.11712,     0.11812,     0.11912,\n",
            "           0.12012,     0.12112,     0.12212,     0.12312,     0.12412,     0.12513,     0.12613,     0.12713,     0.12813,     0.12913,     0.13013,     0.13113,     0.13213,     0.13313,     0.13413,     0.13514,     0.13614,     0.13714,     0.13814,     0.13914,     0.14014,     0.14114,     0.14214,     0.14314,\n",
            "           0.14414,     0.14515,     0.14615,     0.14715,     0.14815,     0.14915,     0.15015,     0.15115,     0.15215,     0.15315,     0.15415,     0.15516,     0.15616,     0.15716,     0.15816,     0.15916,     0.16016,     0.16116,     0.16216,     0.16316,     0.16416,     0.16517,     0.16617,     0.16717,\n",
            "           0.16817,     0.16917,     0.17017,     0.17117,     0.17217,     0.17317,     0.17417,     0.17518,     0.17618,     0.17718,     0.17818,     0.17918,     0.18018,     0.18118,     0.18218,     0.18318,     0.18418,     0.18519,     0.18619,     0.18719,     0.18819,     0.18919,     0.19019,     0.19119,\n",
            "           0.19219,     0.19319,     0.19419,      0.1952,      0.1962,      0.1972,      0.1982,      0.1992,      0.2002,      0.2012,      0.2022,      0.2032,      0.2042,     0.20521,     0.20621,     0.20721,     0.20821,     0.20921,     0.21021,     0.21121,     0.21221,     0.21321,     0.21421,     0.21522,\n",
            "           0.21622,     0.21722,     0.21822,     0.21922,     0.22022,     0.22122,     0.22222,     0.22322,     0.22422,     0.22523,     0.22623,     0.22723,     0.22823,     0.22923,     0.23023,     0.23123,     0.23223,     0.23323,     0.23423,     0.23524,     0.23624,     0.23724,     0.23824,     0.23924,\n",
            "           0.24024,     0.24124,     0.24224,     0.24324,     0.24424,     0.24525,     0.24625,     0.24725,     0.24825,     0.24925,     0.25025,     0.25125,     0.25225,     0.25325,     0.25425,     0.25526,     0.25626,     0.25726,     0.25826,     0.25926,     0.26026,     0.26126,     0.26226,     0.26326,\n",
            "           0.26426,     0.26527,     0.26627,     0.26727,     0.26827,     0.26927,     0.27027,     0.27127,     0.27227,     0.27327,     0.27427,     0.27528,     0.27628,     0.27728,     0.27828,     0.27928,     0.28028,     0.28128,     0.28228,     0.28328,     0.28428,     0.28529,     0.28629,     0.28729,\n",
            "           0.28829,     0.28929,     0.29029,     0.29129,     0.29229,     0.29329,     0.29429,      0.2953,      0.2963,      0.2973,      0.2983,      0.2993,      0.3003,      0.3013,      0.3023,      0.3033,      0.3043,     0.30531,     0.30631,     0.30731,     0.30831,     0.30931,     0.31031,     0.31131,\n",
            "           0.31231,     0.31331,     0.31431,     0.31532,     0.31632,     0.31732,     0.31832,     0.31932,     0.32032,     0.32132,     0.32232,     0.32332,     0.32432,     0.32533,     0.32633,     0.32733,     0.32833,     0.32933,     0.33033,     0.33133,     0.33233,     0.33333,     0.33433,     0.33534,\n",
            "           0.33634,     0.33734,     0.33834,     0.33934,     0.34034,     0.34134,     0.34234,     0.34334,     0.34434,     0.34535,     0.34635,     0.34735,     0.34835,     0.34935,     0.35035,     0.35135,     0.35235,     0.35335,     0.35435,     0.35536,     0.35636,     0.35736,     0.35836,     0.35936,\n",
            "           0.36036,     0.36136,     0.36236,     0.36336,     0.36436,     0.36537,     0.36637,     0.36737,     0.36837,     0.36937,     0.37037,     0.37137,     0.37237,     0.37337,     0.37437,     0.37538,     0.37638,     0.37738,     0.37838,     0.37938,     0.38038,     0.38138,     0.38238,     0.38338,\n",
            "           0.38438,     0.38539,     0.38639,     0.38739,     0.38839,     0.38939,     0.39039,     0.39139,     0.39239,     0.39339,     0.39439,      0.3954,      0.3964,      0.3974,      0.3984,      0.3994,      0.4004,      0.4014,      0.4024,      0.4034,      0.4044,     0.40541,     0.40641,     0.40741,\n",
            "           0.40841,     0.40941,     0.41041,     0.41141,     0.41241,     0.41341,     0.41441,     0.41542,     0.41642,     0.41742,     0.41842,     0.41942,     0.42042,     0.42142,     0.42242,     0.42342,     0.42442,     0.42543,     0.42643,     0.42743,     0.42843,     0.42943,     0.43043,     0.43143,\n",
            "           0.43243,     0.43343,     0.43443,     0.43544,     0.43644,     0.43744,     0.43844,     0.43944,     0.44044,     0.44144,     0.44244,     0.44344,     0.44444,     0.44545,     0.44645,     0.44745,     0.44845,     0.44945,     0.45045,     0.45145,     0.45245,     0.45345,     0.45445,     0.45546,\n",
            "           0.45646,     0.45746,     0.45846,     0.45946,     0.46046,     0.46146,     0.46246,     0.46346,     0.46446,     0.46547,     0.46647,     0.46747,     0.46847,     0.46947,     0.47047,     0.47147,     0.47247,     0.47347,     0.47447,     0.47548,     0.47648,     0.47748,     0.47848,     0.47948,\n",
            "           0.48048,     0.48148,     0.48248,     0.48348,     0.48448,     0.48549,     0.48649,     0.48749,     0.48849,     0.48949,     0.49049,     0.49149,     0.49249,     0.49349,     0.49449,      0.4955,      0.4965,      0.4975,      0.4985,      0.4995,      0.5005,      0.5015,      0.5025,      0.5035,\n",
            "            0.5045,     0.50551,     0.50651,     0.50751,     0.50851,     0.50951,     0.51051,     0.51151,     0.51251,     0.51351,     0.51451,     0.51552,     0.51652,     0.51752,     0.51852,     0.51952,     0.52052,     0.52152,     0.52252,     0.52352,     0.52452,     0.52553,     0.52653,     0.52753,\n",
            "           0.52853,     0.52953,     0.53053,     0.53153,     0.53253,     0.53353,     0.53453,     0.53554,     0.53654,     0.53754,     0.53854,     0.53954,     0.54054,     0.54154,     0.54254,     0.54354,     0.54454,     0.54555,     0.54655,     0.54755,     0.54855,     0.54955,     0.55055,     0.55155,\n",
            "           0.55255,     0.55355,     0.55455,     0.55556,     0.55656,     0.55756,     0.55856,     0.55956,     0.56056,     0.56156,     0.56256,     0.56356,     0.56456,     0.56557,     0.56657,     0.56757,     0.56857,     0.56957,     0.57057,     0.57157,     0.57257,     0.57357,     0.57457,     0.57558,\n",
            "           0.57658,     0.57758,     0.57858,     0.57958,     0.58058,     0.58158,     0.58258,     0.58358,     0.58458,     0.58559,     0.58659,     0.58759,     0.58859,     0.58959,     0.59059,     0.59159,     0.59259,     0.59359,     0.59459,      0.5956,      0.5966,      0.5976,      0.5986,      0.5996,\n",
            "            0.6006,      0.6016,      0.6026,      0.6036,      0.6046,     0.60561,     0.60661,     0.60761,     0.60861,     0.60961,     0.61061,     0.61161,     0.61261,     0.61361,     0.61461,     0.61562,     0.61662,     0.61762,     0.61862,     0.61962,     0.62062,     0.62162,     0.62262,     0.62362,\n",
            "           0.62462,     0.62563,     0.62663,     0.62763,     0.62863,     0.62963,     0.63063,     0.63163,     0.63263,     0.63363,     0.63463,     0.63564,     0.63664,     0.63764,     0.63864,     0.63964,     0.64064,     0.64164,     0.64264,     0.64364,     0.64464,     0.64565,     0.64665,     0.64765,\n",
            "           0.64865,     0.64965,     0.65065,     0.65165,     0.65265,     0.65365,     0.65465,     0.65566,     0.65666,     0.65766,     0.65866,     0.65966,     0.66066,     0.66166,     0.66266,     0.66366,     0.66466,     0.66567,     0.66667,     0.66767,     0.66867,     0.66967,     0.67067,     0.67167,\n",
            "           0.67267,     0.67367,     0.67467,     0.67568,     0.67668,     0.67768,     0.67868,     0.67968,     0.68068,     0.68168,     0.68268,     0.68368,     0.68468,     0.68569,     0.68669,     0.68769,     0.68869,     0.68969,     0.69069,     0.69169,     0.69269,     0.69369,     0.69469,      0.6957,\n",
            "            0.6967,      0.6977,      0.6987,      0.6997,      0.7007,      0.7017,      0.7027,      0.7037,      0.7047,     0.70571,     0.70671,     0.70771,     0.70871,     0.70971,     0.71071,     0.71171,     0.71271,     0.71371,     0.71471,     0.71572,     0.71672,     0.71772,     0.71872,     0.71972,\n",
            "           0.72072,     0.72172,     0.72272,     0.72372,     0.72472,     0.72573,     0.72673,     0.72773,     0.72873,     0.72973,     0.73073,     0.73173,     0.73273,     0.73373,     0.73473,     0.73574,     0.73674,     0.73774,     0.73874,     0.73974,     0.74074,     0.74174,     0.74274,     0.74374,\n",
            "           0.74474,     0.74575,     0.74675,     0.74775,     0.74875,     0.74975,     0.75075,     0.75175,     0.75275,     0.75375,     0.75475,     0.75576,     0.75676,     0.75776,     0.75876,     0.75976,     0.76076,     0.76176,     0.76276,     0.76376,     0.76476,     0.76577,     0.76677,     0.76777,\n",
            "           0.76877,     0.76977,     0.77077,     0.77177,     0.77277,     0.77377,     0.77477,     0.77578,     0.77678,     0.77778,     0.77878,     0.77978,     0.78078,     0.78178,     0.78278,     0.78378,     0.78478,     0.78579,     0.78679,     0.78779,     0.78879,     0.78979,     0.79079,     0.79179,\n",
            "           0.79279,     0.79379,     0.79479,      0.7958,      0.7968,      0.7978,      0.7988,      0.7998,      0.8008,      0.8018,      0.8028,      0.8038,      0.8048,     0.80581,     0.80681,     0.80781,     0.80881,     0.80981,     0.81081,     0.81181,     0.81281,     0.81381,     0.81481,     0.81582,\n",
            "           0.81682,     0.81782,     0.81882,     0.81982,     0.82082,     0.82182,     0.82282,     0.82382,     0.82482,     0.82583,     0.82683,     0.82783,     0.82883,     0.82983,     0.83083,     0.83183,     0.83283,     0.83383,     0.83483,     0.83584,     0.83684,     0.83784,     0.83884,     0.83984,\n",
            "           0.84084,     0.84184,     0.84284,     0.84384,     0.84484,     0.84585,     0.84685,     0.84785,     0.84885,     0.84985,     0.85085,     0.85185,     0.85285,     0.85385,     0.85485,     0.85586,     0.85686,     0.85786,     0.85886,     0.85986,     0.86086,     0.86186,     0.86286,     0.86386,\n",
            "           0.86486,     0.86587,     0.86687,     0.86787,     0.86887,     0.86987,     0.87087,     0.87187,     0.87287,     0.87387,     0.87487,     0.87588,     0.87688,     0.87788,     0.87888,     0.87988,     0.88088,     0.88188,     0.88288,     0.88388,     0.88488,     0.88589,     0.88689,     0.88789,\n",
            "           0.88889,     0.88989,     0.89089,     0.89189,     0.89289,     0.89389,     0.89489,      0.8959,      0.8969,      0.8979,      0.8989,      0.8999,      0.9009,      0.9019,      0.9029,      0.9039,      0.9049,     0.90591,     0.90691,     0.90791,     0.90891,     0.90991,     0.91091,     0.91191,\n",
            "           0.91291,     0.91391,     0.91491,     0.91592,     0.91692,     0.91792,     0.91892,     0.91992,     0.92092,     0.92192,     0.92292,     0.92392,     0.92492,     0.92593,     0.92693,     0.92793,     0.92893,     0.92993,     0.93093,     0.93193,     0.93293,     0.93393,     0.93493,     0.93594,\n",
            "           0.93694,     0.93794,     0.93894,     0.93994,     0.94094,     0.94194,     0.94294,     0.94394,     0.94494,     0.94595,     0.94695,     0.94795,     0.94895,     0.94995,     0.95095,     0.95195,     0.95295,     0.95395,     0.95495,     0.95596,     0.95696,     0.95796,     0.95896,     0.95996,\n",
            "           0.96096,     0.96196,     0.96296,     0.96396,     0.96496,     0.96597,     0.96697,     0.96797,     0.96897,     0.96997,     0.97097,     0.97197,     0.97297,     0.97397,     0.97497,     0.97598,     0.97698,     0.97798,     0.97898,     0.97998,     0.98098,     0.98198,     0.98298,     0.98398,\n",
            "           0.98498,     0.98599,     0.98699,     0.98799,     0.98899,     0.98999,     0.99099,     0.99199,     0.99299,     0.99399,     0.99499,       0.996,       0.997,       0.998,       0.999,           1]), array([[          1,           1,           1, ...,  0.00098248,  0.00049124,           0],\n",
            "       [          1,           1,           1, ...,   0.0010388,  0.00051939,           0],\n",
            "       [          1,           1,           1, ...,   0.0029842,   0.0014921,           0],\n",
            "       ...,\n",
            "       [          1,           1,           1, ...,   0.0010016,  0.00050078,           0],\n",
            "       [          1,           1,           1, ...,   0.0017288,  0.00086442,           0],\n",
            "       [          1,           1,           1, ...,   0.0029892,   0.0014946,           0]]), 'Recall', 'Precision'], [array([          0,    0.001001,    0.002002,    0.003003,    0.004004,    0.005005,    0.006006,    0.007007,    0.008008,    0.009009,     0.01001,    0.011011,    0.012012,    0.013013,    0.014014,    0.015015,    0.016016,    0.017017,    0.018018,    0.019019,     0.02002,    0.021021,    0.022022,    0.023023,\n",
            "          0.024024,    0.025025,    0.026026,    0.027027,    0.028028,    0.029029,     0.03003,    0.031031,    0.032032,    0.033033,    0.034034,    0.035035,    0.036036,    0.037037,    0.038038,    0.039039,     0.04004,    0.041041,    0.042042,    0.043043,    0.044044,    0.045045,    0.046046,    0.047047,\n",
            "          0.048048,    0.049049,     0.05005,    0.051051,    0.052052,    0.053053,    0.054054,    0.055055,    0.056056,    0.057057,    0.058058,    0.059059,     0.06006,    0.061061,    0.062062,    0.063063,    0.064064,    0.065065,    0.066066,    0.067067,    0.068068,    0.069069,     0.07007,    0.071071,\n",
            "          0.072072,    0.073073,    0.074074,    0.075075,    0.076076,    0.077077,    0.078078,    0.079079,     0.08008,    0.081081,    0.082082,    0.083083,    0.084084,    0.085085,    0.086086,    0.087087,    0.088088,    0.089089,     0.09009,    0.091091,    0.092092,    0.093093,    0.094094,    0.095095,\n",
            "          0.096096,    0.097097,    0.098098,    0.099099,      0.1001,      0.1011,      0.1021,      0.1031,      0.1041,     0.10511,     0.10611,     0.10711,     0.10811,     0.10911,     0.11011,     0.11111,     0.11211,     0.11311,     0.11411,     0.11512,     0.11612,     0.11712,     0.11812,     0.11912,\n",
            "           0.12012,     0.12112,     0.12212,     0.12312,     0.12412,     0.12513,     0.12613,     0.12713,     0.12813,     0.12913,     0.13013,     0.13113,     0.13213,     0.13313,     0.13413,     0.13514,     0.13614,     0.13714,     0.13814,     0.13914,     0.14014,     0.14114,     0.14214,     0.14314,\n",
            "           0.14414,     0.14515,     0.14615,     0.14715,     0.14815,     0.14915,     0.15015,     0.15115,     0.15215,     0.15315,     0.15415,     0.15516,     0.15616,     0.15716,     0.15816,     0.15916,     0.16016,     0.16116,     0.16216,     0.16316,     0.16416,     0.16517,     0.16617,     0.16717,\n",
            "           0.16817,     0.16917,     0.17017,     0.17117,     0.17217,     0.17317,     0.17417,     0.17518,     0.17618,     0.17718,     0.17818,     0.17918,     0.18018,     0.18118,     0.18218,     0.18318,     0.18418,     0.18519,     0.18619,     0.18719,     0.18819,     0.18919,     0.19019,     0.19119,\n",
            "           0.19219,     0.19319,     0.19419,      0.1952,      0.1962,      0.1972,      0.1982,      0.1992,      0.2002,      0.2012,      0.2022,      0.2032,      0.2042,     0.20521,     0.20621,     0.20721,     0.20821,     0.20921,     0.21021,     0.21121,     0.21221,     0.21321,     0.21421,     0.21522,\n",
            "           0.21622,     0.21722,     0.21822,     0.21922,     0.22022,     0.22122,     0.22222,     0.22322,     0.22422,     0.22523,     0.22623,     0.22723,     0.22823,     0.22923,     0.23023,     0.23123,     0.23223,     0.23323,     0.23423,     0.23524,     0.23624,     0.23724,     0.23824,     0.23924,\n",
            "           0.24024,     0.24124,     0.24224,     0.24324,     0.24424,     0.24525,     0.24625,     0.24725,     0.24825,     0.24925,     0.25025,     0.25125,     0.25225,     0.25325,     0.25425,     0.25526,     0.25626,     0.25726,     0.25826,     0.25926,     0.26026,     0.26126,     0.26226,     0.26326,\n",
            "           0.26426,     0.26527,     0.26627,     0.26727,     0.26827,     0.26927,     0.27027,     0.27127,     0.27227,     0.27327,     0.27427,     0.27528,     0.27628,     0.27728,     0.27828,     0.27928,     0.28028,     0.28128,     0.28228,     0.28328,     0.28428,     0.28529,     0.28629,     0.28729,\n",
            "           0.28829,     0.28929,     0.29029,     0.29129,     0.29229,     0.29329,     0.29429,      0.2953,      0.2963,      0.2973,      0.2983,      0.2993,      0.3003,      0.3013,      0.3023,      0.3033,      0.3043,     0.30531,     0.30631,     0.30731,     0.30831,     0.30931,     0.31031,     0.31131,\n",
            "           0.31231,     0.31331,     0.31431,     0.31532,     0.31632,     0.31732,     0.31832,     0.31932,     0.32032,     0.32132,     0.32232,     0.32332,     0.32432,     0.32533,     0.32633,     0.32733,     0.32833,     0.32933,     0.33033,     0.33133,     0.33233,     0.33333,     0.33433,     0.33534,\n",
            "           0.33634,     0.33734,     0.33834,     0.33934,     0.34034,     0.34134,     0.34234,     0.34334,     0.34434,     0.34535,     0.34635,     0.34735,     0.34835,     0.34935,     0.35035,     0.35135,     0.35235,     0.35335,     0.35435,     0.35536,     0.35636,     0.35736,     0.35836,     0.35936,\n",
            "           0.36036,     0.36136,     0.36236,     0.36336,     0.36436,     0.36537,     0.36637,     0.36737,     0.36837,     0.36937,     0.37037,     0.37137,     0.37237,     0.37337,     0.37437,     0.37538,     0.37638,     0.37738,     0.37838,     0.37938,     0.38038,     0.38138,     0.38238,     0.38338,\n",
            "           0.38438,     0.38539,     0.38639,     0.38739,     0.38839,     0.38939,     0.39039,     0.39139,     0.39239,     0.39339,     0.39439,      0.3954,      0.3964,      0.3974,      0.3984,      0.3994,      0.4004,      0.4014,      0.4024,      0.4034,      0.4044,     0.40541,     0.40641,     0.40741,\n",
            "           0.40841,     0.40941,     0.41041,     0.41141,     0.41241,     0.41341,     0.41441,     0.41542,     0.41642,     0.41742,     0.41842,     0.41942,     0.42042,     0.42142,     0.42242,     0.42342,     0.42442,     0.42543,     0.42643,     0.42743,     0.42843,     0.42943,     0.43043,     0.43143,\n",
            "           0.43243,     0.43343,     0.43443,     0.43544,     0.43644,     0.43744,     0.43844,     0.43944,     0.44044,     0.44144,     0.44244,     0.44344,     0.44444,     0.44545,     0.44645,     0.44745,     0.44845,     0.44945,     0.45045,     0.45145,     0.45245,     0.45345,     0.45445,     0.45546,\n",
            "           0.45646,     0.45746,     0.45846,     0.45946,     0.46046,     0.46146,     0.46246,     0.46346,     0.46446,     0.46547,     0.46647,     0.46747,     0.46847,     0.46947,     0.47047,     0.47147,     0.47247,     0.47347,     0.47447,     0.47548,     0.47648,     0.47748,     0.47848,     0.47948,\n",
            "           0.48048,     0.48148,     0.48248,     0.48348,     0.48448,     0.48549,     0.48649,     0.48749,     0.48849,     0.48949,     0.49049,     0.49149,     0.49249,     0.49349,     0.49449,      0.4955,      0.4965,      0.4975,      0.4985,      0.4995,      0.5005,      0.5015,      0.5025,      0.5035,\n",
            "            0.5045,     0.50551,     0.50651,     0.50751,     0.50851,     0.50951,     0.51051,     0.51151,     0.51251,     0.51351,     0.51451,     0.51552,     0.51652,     0.51752,     0.51852,     0.51952,     0.52052,     0.52152,     0.52252,     0.52352,     0.52452,     0.52553,     0.52653,     0.52753,\n",
            "           0.52853,     0.52953,     0.53053,     0.53153,     0.53253,     0.53353,     0.53453,     0.53554,     0.53654,     0.53754,     0.53854,     0.53954,     0.54054,     0.54154,     0.54254,     0.54354,     0.54454,     0.54555,     0.54655,     0.54755,     0.54855,     0.54955,     0.55055,     0.55155,\n",
            "           0.55255,     0.55355,     0.55455,     0.55556,     0.55656,     0.55756,     0.55856,     0.55956,     0.56056,     0.56156,     0.56256,     0.56356,     0.56456,     0.56557,     0.56657,     0.56757,     0.56857,     0.56957,     0.57057,     0.57157,     0.57257,     0.57357,     0.57457,     0.57558,\n",
            "           0.57658,     0.57758,     0.57858,     0.57958,     0.58058,     0.58158,     0.58258,     0.58358,     0.58458,     0.58559,     0.58659,     0.58759,     0.58859,     0.58959,     0.59059,     0.59159,     0.59259,     0.59359,     0.59459,      0.5956,      0.5966,      0.5976,      0.5986,      0.5996,\n",
            "            0.6006,      0.6016,      0.6026,      0.6036,      0.6046,     0.60561,     0.60661,     0.60761,     0.60861,     0.60961,     0.61061,     0.61161,     0.61261,     0.61361,     0.61461,     0.61562,     0.61662,     0.61762,     0.61862,     0.61962,     0.62062,     0.62162,     0.62262,     0.62362,\n",
            "           0.62462,     0.62563,     0.62663,     0.62763,     0.62863,     0.62963,     0.63063,     0.63163,     0.63263,     0.63363,     0.63463,     0.63564,     0.63664,     0.63764,     0.63864,     0.63964,     0.64064,     0.64164,     0.64264,     0.64364,     0.64464,     0.64565,     0.64665,     0.64765,\n",
            "           0.64865,     0.64965,     0.65065,     0.65165,     0.65265,     0.65365,     0.65465,     0.65566,     0.65666,     0.65766,     0.65866,     0.65966,     0.66066,     0.66166,     0.66266,     0.66366,     0.66466,     0.66567,     0.66667,     0.66767,     0.66867,     0.66967,     0.67067,     0.67167,\n",
            "           0.67267,     0.67367,     0.67467,     0.67568,     0.67668,     0.67768,     0.67868,     0.67968,     0.68068,     0.68168,     0.68268,     0.68368,     0.68468,     0.68569,     0.68669,     0.68769,     0.68869,     0.68969,     0.69069,     0.69169,     0.69269,     0.69369,     0.69469,      0.6957,\n",
            "            0.6967,      0.6977,      0.6987,      0.6997,      0.7007,      0.7017,      0.7027,      0.7037,      0.7047,     0.70571,     0.70671,     0.70771,     0.70871,     0.70971,     0.71071,     0.71171,     0.71271,     0.71371,     0.71471,     0.71572,     0.71672,     0.71772,     0.71872,     0.71972,\n",
            "           0.72072,     0.72172,     0.72272,     0.72372,     0.72472,     0.72573,     0.72673,     0.72773,     0.72873,     0.72973,     0.73073,     0.73173,     0.73273,     0.73373,     0.73473,     0.73574,     0.73674,     0.73774,     0.73874,     0.73974,     0.74074,     0.74174,     0.74274,     0.74374,\n",
            "           0.74474,     0.74575,     0.74675,     0.74775,     0.74875,     0.74975,     0.75075,     0.75175,     0.75275,     0.75375,     0.75475,     0.75576,     0.75676,     0.75776,     0.75876,     0.75976,     0.76076,     0.76176,     0.76276,     0.76376,     0.76476,     0.76577,     0.76677,     0.76777,\n",
            "           0.76877,     0.76977,     0.77077,     0.77177,     0.77277,     0.77377,     0.77477,     0.77578,     0.77678,     0.77778,     0.77878,     0.77978,     0.78078,     0.78178,     0.78278,     0.78378,     0.78478,     0.78579,     0.78679,     0.78779,     0.78879,     0.78979,     0.79079,     0.79179,\n",
            "           0.79279,     0.79379,     0.79479,      0.7958,      0.7968,      0.7978,      0.7988,      0.7998,      0.8008,      0.8018,      0.8028,      0.8038,      0.8048,     0.80581,     0.80681,     0.80781,     0.80881,     0.80981,     0.81081,     0.81181,     0.81281,     0.81381,     0.81481,     0.81582,\n",
            "           0.81682,     0.81782,     0.81882,     0.81982,     0.82082,     0.82182,     0.82282,     0.82382,     0.82482,     0.82583,     0.82683,     0.82783,     0.82883,     0.82983,     0.83083,     0.83183,     0.83283,     0.83383,     0.83483,     0.83584,     0.83684,     0.83784,     0.83884,     0.83984,\n",
            "           0.84084,     0.84184,     0.84284,     0.84384,     0.84484,     0.84585,     0.84685,     0.84785,     0.84885,     0.84985,     0.85085,     0.85185,     0.85285,     0.85385,     0.85485,     0.85586,     0.85686,     0.85786,     0.85886,     0.85986,     0.86086,     0.86186,     0.86286,     0.86386,\n",
            "           0.86486,     0.86587,     0.86687,     0.86787,     0.86887,     0.86987,     0.87087,     0.87187,     0.87287,     0.87387,     0.87487,     0.87588,     0.87688,     0.87788,     0.87888,     0.87988,     0.88088,     0.88188,     0.88288,     0.88388,     0.88488,     0.88589,     0.88689,     0.88789,\n",
            "           0.88889,     0.88989,     0.89089,     0.89189,     0.89289,     0.89389,     0.89489,      0.8959,      0.8969,      0.8979,      0.8989,      0.8999,      0.9009,      0.9019,      0.9029,      0.9039,      0.9049,     0.90591,     0.90691,     0.90791,     0.90891,     0.90991,     0.91091,     0.91191,\n",
            "           0.91291,     0.91391,     0.91491,     0.91592,     0.91692,     0.91792,     0.91892,     0.91992,     0.92092,     0.92192,     0.92292,     0.92392,     0.92492,     0.92593,     0.92693,     0.92793,     0.92893,     0.92993,     0.93093,     0.93193,     0.93293,     0.93393,     0.93493,     0.93594,\n",
            "           0.93694,     0.93794,     0.93894,     0.93994,     0.94094,     0.94194,     0.94294,     0.94394,     0.94494,     0.94595,     0.94695,     0.94795,     0.94895,     0.94995,     0.95095,     0.95195,     0.95295,     0.95395,     0.95495,     0.95596,     0.95696,     0.95796,     0.95896,     0.95996,\n",
            "           0.96096,     0.96196,     0.96296,     0.96396,     0.96496,     0.96597,     0.96697,     0.96797,     0.96897,     0.96997,     0.97097,     0.97197,     0.97297,     0.97397,     0.97497,     0.97598,     0.97698,     0.97798,     0.97898,     0.97998,     0.98098,     0.98198,     0.98298,     0.98398,\n",
            "           0.98498,     0.98599,     0.98699,     0.98799,     0.98899,     0.98999,     0.99099,     0.99199,     0.99299,     0.99399,     0.99499,       0.996,       0.997,       0.998,       0.999,           1]), array([[   0.058228,    0.058294,    0.084057, ...,           0,           0,           0],\n",
            "       [    0.04528,    0.045283,    0.062227, ...,           0,           0,           0],\n",
            "       [    0.12288,     0.12295,     0.17568, ...,           0,           0,           0],\n",
            "       ...,\n",
            "       [   0.062399,     0.06241,    0.099492, ...,           0,           0,           0],\n",
            "       [   0.066174,    0.066214,    0.091222, ...,           0,           0,           0],\n",
            "       [    0.13782,     0.13785,      0.1896, ...,           0,           0,           0]]), 'Confidence', 'F1'], [array([          0,    0.001001,    0.002002,    0.003003,    0.004004,    0.005005,    0.006006,    0.007007,    0.008008,    0.009009,     0.01001,    0.011011,    0.012012,    0.013013,    0.014014,    0.015015,    0.016016,    0.017017,    0.018018,    0.019019,     0.02002,    0.021021,    0.022022,    0.023023,\n",
            "          0.024024,    0.025025,    0.026026,    0.027027,    0.028028,    0.029029,     0.03003,    0.031031,    0.032032,    0.033033,    0.034034,    0.035035,    0.036036,    0.037037,    0.038038,    0.039039,     0.04004,    0.041041,    0.042042,    0.043043,    0.044044,    0.045045,    0.046046,    0.047047,\n",
            "          0.048048,    0.049049,     0.05005,    0.051051,    0.052052,    0.053053,    0.054054,    0.055055,    0.056056,    0.057057,    0.058058,    0.059059,     0.06006,    0.061061,    0.062062,    0.063063,    0.064064,    0.065065,    0.066066,    0.067067,    0.068068,    0.069069,     0.07007,    0.071071,\n",
            "          0.072072,    0.073073,    0.074074,    0.075075,    0.076076,    0.077077,    0.078078,    0.079079,     0.08008,    0.081081,    0.082082,    0.083083,    0.084084,    0.085085,    0.086086,    0.087087,    0.088088,    0.089089,     0.09009,    0.091091,    0.092092,    0.093093,    0.094094,    0.095095,\n",
            "          0.096096,    0.097097,    0.098098,    0.099099,      0.1001,      0.1011,      0.1021,      0.1031,      0.1041,     0.10511,     0.10611,     0.10711,     0.10811,     0.10911,     0.11011,     0.11111,     0.11211,     0.11311,     0.11411,     0.11512,     0.11612,     0.11712,     0.11812,     0.11912,\n",
            "           0.12012,     0.12112,     0.12212,     0.12312,     0.12412,     0.12513,     0.12613,     0.12713,     0.12813,     0.12913,     0.13013,     0.13113,     0.13213,     0.13313,     0.13413,     0.13514,     0.13614,     0.13714,     0.13814,     0.13914,     0.14014,     0.14114,     0.14214,     0.14314,\n",
            "           0.14414,     0.14515,     0.14615,     0.14715,     0.14815,     0.14915,     0.15015,     0.15115,     0.15215,     0.15315,     0.15415,     0.15516,     0.15616,     0.15716,     0.15816,     0.15916,     0.16016,     0.16116,     0.16216,     0.16316,     0.16416,     0.16517,     0.16617,     0.16717,\n",
            "           0.16817,     0.16917,     0.17017,     0.17117,     0.17217,     0.17317,     0.17417,     0.17518,     0.17618,     0.17718,     0.17818,     0.17918,     0.18018,     0.18118,     0.18218,     0.18318,     0.18418,     0.18519,     0.18619,     0.18719,     0.18819,     0.18919,     0.19019,     0.19119,\n",
            "           0.19219,     0.19319,     0.19419,      0.1952,      0.1962,      0.1972,      0.1982,      0.1992,      0.2002,      0.2012,      0.2022,      0.2032,      0.2042,     0.20521,     0.20621,     0.20721,     0.20821,     0.20921,     0.21021,     0.21121,     0.21221,     0.21321,     0.21421,     0.21522,\n",
            "           0.21622,     0.21722,     0.21822,     0.21922,     0.22022,     0.22122,     0.22222,     0.22322,     0.22422,     0.22523,     0.22623,     0.22723,     0.22823,     0.22923,     0.23023,     0.23123,     0.23223,     0.23323,     0.23423,     0.23524,     0.23624,     0.23724,     0.23824,     0.23924,\n",
            "           0.24024,     0.24124,     0.24224,     0.24324,     0.24424,     0.24525,     0.24625,     0.24725,     0.24825,     0.24925,     0.25025,     0.25125,     0.25225,     0.25325,     0.25425,     0.25526,     0.25626,     0.25726,     0.25826,     0.25926,     0.26026,     0.26126,     0.26226,     0.26326,\n",
            "           0.26426,     0.26527,     0.26627,     0.26727,     0.26827,     0.26927,     0.27027,     0.27127,     0.27227,     0.27327,     0.27427,     0.27528,     0.27628,     0.27728,     0.27828,     0.27928,     0.28028,     0.28128,     0.28228,     0.28328,     0.28428,     0.28529,     0.28629,     0.28729,\n",
            "           0.28829,     0.28929,     0.29029,     0.29129,     0.29229,     0.29329,     0.29429,      0.2953,      0.2963,      0.2973,      0.2983,      0.2993,      0.3003,      0.3013,      0.3023,      0.3033,      0.3043,     0.30531,     0.30631,     0.30731,     0.30831,     0.30931,     0.31031,     0.31131,\n",
            "           0.31231,     0.31331,     0.31431,     0.31532,     0.31632,     0.31732,     0.31832,     0.31932,     0.32032,     0.32132,     0.32232,     0.32332,     0.32432,     0.32533,     0.32633,     0.32733,     0.32833,     0.32933,     0.33033,     0.33133,     0.33233,     0.33333,     0.33433,     0.33534,\n",
            "           0.33634,     0.33734,     0.33834,     0.33934,     0.34034,     0.34134,     0.34234,     0.34334,     0.34434,     0.34535,     0.34635,     0.34735,     0.34835,     0.34935,     0.35035,     0.35135,     0.35235,     0.35335,     0.35435,     0.35536,     0.35636,     0.35736,     0.35836,     0.35936,\n",
            "           0.36036,     0.36136,     0.36236,     0.36336,     0.36436,     0.36537,     0.36637,     0.36737,     0.36837,     0.36937,     0.37037,     0.37137,     0.37237,     0.37337,     0.37437,     0.37538,     0.37638,     0.37738,     0.37838,     0.37938,     0.38038,     0.38138,     0.38238,     0.38338,\n",
            "           0.38438,     0.38539,     0.38639,     0.38739,     0.38839,     0.38939,     0.39039,     0.39139,     0.39239,     0.39339,     0.39439,      0.3954,      0.3964,      0.3974,      0.3984,      0.3994,      0.4004,      0.4014,      0.4024,      0.4034,      0.4044,     0.40541,     0.40641,     0.40741,\n",
            "           0.40841,     0.40941,     0.41041,     0.41141,     0.41241,     0.41341,     0.41441,     0.41542,     0.41642,     0.41742,     0.41842,     0.41942,     0.42042,     0.42142,     0.42242,     0.42342,     0.42442,     0.42543,     0.42643,     0.42743,     0.42843,     0.42943,     0.43043,     0.43143,\n",
            "           0.43243,     0.43343,     0.43443,     0.43544,     0.43644,     0.43744,     0.43844,     0.43944,     0.44044,     0.44144,     0.44244,     0.44344,     0.44444,     0.44545,     0.44645,     0.44745,     0.44845,     0.44945,     0.45045,     0.45145,     0.45245,     0.45345,     0.45445,     0.45546,\n",
            "           0.45646,     0.45746,     0.45846,     0.45946,     0.46046,     0.46146,     0.46246,     0.46346,     0.46446,     0.46547,     0.46647,     0.46747,     0.46847,     0.46947,     0.47047,     0.47147,     0.47247,     0.47347,     0.47447,     0.47548,     0.47648,     0.47748,     0.47848,     0.47948,\n",
            "           0.48048,     0.48148,     0.48248,     0.48348,     0.48448,     0.48549,     0.48649,     0.48749,     0.48849,     0.48949,     0.49049,     0.49149,     0.49249,     0.49349,     0.49449,      0.4955,      0.4965,      0.4975,      0.4985,      0.4995,      0.5005,      0.5015,      0.5025,      0.5035,\n",
            "            0.5045,     0.50551,     0.50651,     0.50751,     0.50851,     0.50951,     0.51051,     0.51151,     0.51251,     0.51351,     0.51451,     0.51552,     0.51652,     0.51752,     0.51852,     0.51952,     0.52052,     0.52152,     0.52252,     0.52352,     0.52452,     0.52553,     0.52653,     0.52753,\n",
            "           0.52853,     0.52953,     0.53053,     0.53153,     0.53253,     0.53353,     0.53453,     0.53554,     0.53654,     0.53754,     0.53854,     0.53954,     0.54054,     0.54154,     0.54254,     0.54354,     0.54454,     0.54555,     0.54655,     0.54755,     0.54855,     0.54955,     0.55055,     0.55155,\n",
            "           0.55255,     0.55355,     0.55455,     0.55556,     0.55656,     0.55756,     0.55856,     0.55956,     0.56056,     0.56156,     0.56256,     0.56356,     0.56456,     0.56557,     0.56657,     0.56757,     0.56857,     0.56957,     0.57057,     0.57157,     0.57257,     0.57357,     0.57457,     0.57558,\n",
            "           0.57658,     0.57758,     0.57858,     0.57958,     0.58058,     0.58158,     0.58258,     0.58358,     0.58458,     0.58559,     0.58659,     0.58759,     0.58859,     0.58959,     0.59059,     0.59159,     0.59259,     0.59359,     0.59459,      0.5956,      0.5966,      0.5976,      0.5986,      0.5996,\n",
            "            0.6006,      0.6016,      0.6026,      0.6036,      0.6046,     0.60561,     0.60661,     0.60761,     0.60861,     0.60961,     0.61061,     0.61161,     0.61261,     0.61361,     0.61461,     0.61562,     0.61662,     0.61762,     0.61862,     0.61962,     0.62062,     0.62162,     0.62262,     0.62362,\n",
            "           0.62462,     0.62563,     0.62663,     0.62763,     0.62863,     0.62963,     0.63063,     0.63163,     0.63263,     0.63363,     0.63463,     0.63564,     0.63664,     0.63764,     0.63864,     0.63964,     0.64064,     0.64164,     0.64264,     0.64364,     0.64464,     0.64565,     0.64665,     0.64765,\n",
            "           0.64865,     0.64965,     0.65065,     0.65165,     0.65265,     0.65365,     0.65465,     0.65566,     0.65666,     0.65766,     0.65866,     0.65966,     0.66066,     0.66166,     0.66266,     0.66366,     0.66466,     0.66567,     0.66667,     0.66767,     0.66867,     0.66967,     0.67067,     0.67167,\n",
            "           0.67267,     0.67367,     0.67467,     0.67568,     0.67668,     0.67768,     0.67868,     0.67968,     0.68068,     0.68168,     0.68268,     0.68368,     0.68468,     0.68569,     0.68669,     0.68769,     0.68869,     0.68969,     0.69069,     0.69169,     0.69269,     0.69369,     0.69469,      0.6957,\n",
            "            0.6967,      0.6977,      0.6987,      0.6997,      0.7007,      0.7017,      0.7027,      0.7037,      0.7047,     0.70571,     0.70671,     0.70771,     0.70871,     0.70971,     0.71071,     0.71171,     0.71271,     0.71371,     0.71471,     0.71572,     0.71672,     0.71772,     0.71872,     0.71972,\n",
            "           0.72072,     0.72172,     0.72272,     0.72372,     0.72472,     0.72573,     0.72673,     0.72773,     0.72873,     0.72973,     0.73073,     0.73173,     0.73273,     0.73373,     0.73473,     0.73574,     0.73674,     0.73774,     0.73874,     0.73974,     0.74074,     0.74174,     0.74274,     0.74374,\n",
            "           0.74474,     0.74575,     0.74675,     0.74775,     0.74875,     0.74975,     0.75075,     0.75175,     0.75275,     0.75375,     0.75475,     0.75576,     0.75676,     0.75776,     0.75876,     0.75976,     0.76076,     0.76176,     0.76276,     0.76376,     0.76476,     0.76577,     0.76677,     0.76777,\n",
            "           0.76877,     0.76977,     0.77077,     0.77177,     0.77277,     0.77377,     0.77477,     0.77578,     0.77678,     0.77778,     0.77878,     0.77978,     0.78078,     0.78178,     0.78278,     0.78378,     0.78478,     0.78579,     0.78679,     0.78779,     0.78879,     0.78979,     0.79079,     0.79179,\n",
            "           0.79279,     0.79379,     0.79479,      0.7958,      0.7968,      0.7978,      0.7988,      0.7998,      0.8008,      0.8018,      0.8028,      0.8038,      0.8048,     0.80581,     0.80681,     0.80781,     0.80881,     0.80981,     0.81081,     0.81181,     0.81281,     0.81381,     0.81481,     0.81582,\n",
            "           0.81682,     0.81782,     0.81882,     0.81982,     0.82082,     0.82182,     0.82282,     0.82382,     0.82482,     0.82583,     0.82683,     0.82783,     0.82883,     0.82983,     0.83083,     0.83183,     0.83283,     0.83383,     0.83483,     0.83584,     0.83684,     0.83784,     0.83884,     0.83984,\n",
            "           0.84084,     0.84184,     0.84284,     0.84384,     0.84484,     0.84585,     0.84685,     0.84785,     0.84885,     0.84985,     0.85085,     0.85185,     0.85285,     0.85385,     0.85485,     0.85586,     0.85686,     0.85786,     0.85886,     0.85986,     0.86086,     0.86186,     0.86286,     0.86386,\n",
            "           0.86486,     0.86587,     0.86687,     0.86787,     0.86887,     0.86987,     0.87087,     0.87187,     0.87287,     0.87387,     0.87487,     0.87588,     0.87688,     0.87788,     0.87888,     0.87988,     0.88088,     0.88188,     0.88288,     0.88388,     0.88488,     0.88589,     0.88689,     0.88789,\n",
            "           0.88889,     0.88989,     0.89089,     0.89189,     0.89289,     0.89389,     0.89489,      0.8959,      0.8969,      0.8979,      0.8989,      0.8999,      0.9009,      0.9019,      0.9029,      0.9039,      0.9049,     0.90591,     0.90691,     0.90791,     0.90891,     0.90991,     0.91091,     0.91191,\n",
            "           0.91291,     0.91391,     0.91491,     0.91592,     0.91692,     0.91792,     0.91892,     0.91992,     0.92092,     0.92192,     0.92292,     0.92392,     0.92492,     0.92593,     0.92693,     0.92793,     0.92893,     0.92993,     0.93093,     0.93193,     0.93293,     0.93393,     0.93493,     0.93594,\n",
            "           0.93694,     0.93794,     0.93894,     0.93994,     0.94094,     0.94194,     0.94294,     0.94394,     0.94494,     0.94595,     0.94695,     0.94795,     0.94895,     0.94995,     0.95095,     0.95195,     0.95295,     0.95395,     0.95495,     0.95596,     0.95696,     0.95796,     0.95896,     0.95996,\n",
            "           0.96096,     0.96196,     0.96296,     0.96396,     0.96496,     0.96597,     0.96697,     0.96797,     0.96897,     0.96997,     0.97097,     0.97197,     0.97297,     0.97397,     0.97497,     0.97598,     0.97698,     0.97798,     0.97898,     0.97998,     0.98098,     0.98198,     0.98298,     0.98398,\n",
            "           0.98498,     0.98599,     0.98699,     0.98799,     0.98899,     0.98999,     0.99099,     0.99199,     0.99299,     0.99399,     0.99499,       0.996,       0.997,       0.998,       0.999,           1]), array([[   0.030046,    0.030081,    0.044044, ...,           1,           1,           1],\n",
            "       [    0.02319,    0.023191,    0.032167, ...,           1,           1,           1],\n",
            "       [   0.065658,    0.065699,    0.096815, ...,           1,           1,           1],\n",
            "       ...,\n",
            "       [   0.032276,    0.032282,     0.05254, ...,           1,           1,           1],\n",
            "       [   0.034268,    0.034289,    0.047885, ...,           1,           1,           1],\n",
            "       [   0.074301,    0.074318,     0.10539, ...,           1,           1,           1]]), 'Confidence', 'Precision'], [array([          0,    0.001001,    0.002002,    0.003003,    0.004004,    0.005005,    0.006006,    0.007007,    0.008008,    0.009009,     0.01001,    0.011011,    0.012012,    0.013013,    0.014014,    0.015015,    0.016016,    0.017017,    0.018018,    0.019019,     0.02002,    0.021021,    0.022022,    0.023023,\n",
            "          0.024024,    0.025025,    0.026026,    0.027027,    0.028028,    0.029029,     0.03003,    0.031031,    0.032032,    0.033033,    0.034034,    0.035035,    0.036036,    0.037037,    0.038038,    0.039039,     0.04004,    0.041041,    0.042042,    0.043043,    0.044044,    0.045045,    0.046046,    0.047047,\n",
            "          0.048048,    0.049049,     0.05005,    0.051051,    0.052052,    0.053053,    0.054054,    0.055055,    0.056056,    0.057057,    0.058058,    0.059059,     0.06006,    0.061061,    0.062062,    0.063063,    0.064064,    0.065065,    0.066066,    0.067067,    0.068068,    0.069069,     0.07007,    0.071071,\n",
            "          0.072072,    0.073073,    0.074074,    0.075075,    0.076076,    0.077077,    0.078078,    0.079079,     0.08008,    0.081081,    0.082082,    0.083083,    0.084084,    0.085085,    0.086086,    0.087087,    0.088088,    0.089089,     0.09009,    0.091091,    0.092092,    0.093093,    0.094094,    0.095095,\n",
            "          0.096096,    0.097097,    0.098098,    0.099099,      0.1001,      0.1011,      0.1021,      0.1031,      0.1041,     0.10511,     0.10611,     0.10711,     0.10811,     0.10911,     0.11011,     0.11111,     0.11211,     0.11311,     0.11411,     0.11512,     0.11612,     0.11712,     0.11812,     0.11912,\n",
            "           0.12012,     0.12112,     0.12212,     0.12312,     0.12412,     0.12513,     0.12613,     0.12713,     0.12813,     0.12913,     0.13013,     0.13113,     0.13213,     0.13313,     0.13413,     0.13514,     0.13614,     0.13714,     0.13814,     0.13914,     0.14014,     0.14114,     0.14214,     0.14314,\n",
            "           0.14414,     0.14515,     0.14615,     0.14715,     0.14815,     0.14915,     0.15015,     0.15115,     0.15215,     0.15315,     0.15415,     0.15516,     0.15616,     0.15716,     0.15816,     0.15916,     0.16016,     0.16116,     0.16216,     0.16316,     0.16416,     0.16517,     0.16617,     0.16717,\n",
            "           0.16817,     0.16917,     0.17017,     0.17117,     0.17217,     0.17317,     0.17417,     0.17518,     0.17618,     0.17718,     0.17818,     0.17918,     0.18018,     0.18118,     0.18218,     0.18318,     0.18418,     0.18519,     0.18619,     0.18719,     0.18819,     0.18919,     0.19019,     0.19119,\n",
            "           0.19219,     0.19319,     0.19419,      0.1952,      0.1962,      0.1972,      0.1982,      0.1992,      0.2002,      0.2012,      0.2022,      0.2032,      0.2042,     0.20521,     0.20621,     0.20721,     0.20821,     0.20921,     0.21021,     0.21121,     0.21221,     0.21321,     0.21421,     0.21522,\n",
            "           0.21622,     0.21722,     0.21822,     0.21922,     0.22022,     0.22122,     0.22222,     0.22322,     0.22422,     0.22523,     0.22623,     0.22723,     0.22823,     0.22923,     0.23023,     0.23123,     0.23223,     0.23323,     0.23423,     0.23524,     0.23624,     0.23724,     0.23824,     0.23924,\n",
            "           0.24024,     0.24124,     0.24224,     0.24324,     0.24424,     0.24525,     0.24625,     0.24725,     0.24825,     0.24925,     0.25025,     0.25125,     0.25225,     0.25325,     0.25425,     0.25526,     0.25626,     0.25726,     0.25826,     0.25926,     0.26026,     0.26126,     0.26226,     0.26326,\n",
            "           0.26426,     0.26527,     0.26627,     0.26727,     0.26827,     0.26927,     0.27027,     0.27127,     0.27227,     0.27327,     0.27427,     0.27528,     0.27628,     0.27728,     0.27828,     0.27928,     0.28028,     0.28128,     0.28228,     0.28328,     0.28428,     0.28529,     0.28629,     0.28729,\n",
            "           0.28829,     0.28929,     0.29029,     0.29129,     0.29229,     0.29329,     0.29429,      0.2953,      0.2963,      0.2973,      0.2983,      0.2993,      0.3003,      0.3013,      0.3023,      0.3033,      0.3043,     0.30531,     0.30631,     0.30731,     0.30831,     0.30931,     0.31031,     0.31131,\n",
            "           0.31231,     0.31331,     0.31431,     0.31532,     0.31632,     0.31732,     0.31832,     0.31932,     0.32032,     0.32132,     0.32232,     0.32332,     0.32432,     0.32533,     0.32633,     0.32733,     0.32833,     0.32933,     0.33033,     0.33133,     0.33233,     0.33333,     0.33433,     0.33534,\n",
            "           0.33634,     0.33734,     0.33834,     0.33934,     0.34034,     0.34134,     0.34234,     0.34334,     0.34434,     0.34535,     0.34635,     0.34735,     0.34835,     0.34935,     0.35035,     0.35135,     0.35235,     0.35335,     0.35435,     0.35536,     0.35636,     0.35736,     0.35836,     0.35936,\n",
            "           0.36036,     0.36136,     0.36236,     0.36336,     0.36436,     0.36537,     0.36637,     0.36737,     0.36837,     0.36937,     0.37037,     0.37137,     0.37237,     0.37337,     0.37437,     0.37538,     0.37638,     0.37738,     0.37838,     0.37938,     0.38038,     0.38138,     0.38238,     0.38338,\n",
            "           0.38438,     0.38539,     0.38639,     0.38739,     0.38839,     0.38939,     0.39039,     0.39139,     0.39239,     0.39339,     0.39439,      0.3954,      0.3964,      0.3974,      0.3984,      0.3994,      0.4004,      0.4014,      0.4024,      0.4034,      0.4044,     0.40541,     0.40641,     0.40741,\n",
            "           0.40841,     0.40941,     0.41041,     0.41141,     0.41241,     0.41341,     0.41441,     0.41542,     0.41642,     0.41742,     0.41842,     0.41942,     0.42042,     0.42142,     0.42242,     0.42342,     0.42442,     0.42543,     0.42643,     0.42743,     0.42843,     0.42943,     0.43043,     0.43143,\n",
            "           0.43243,     0.43343,     0.43443,     0.43544,     0.43644,     0.43744,     0.43844,     0.43944,     0.44044,     0.44144,     0.44244,     0.44344,     0.44444,     0.44545,     0.44645,     0.44745,     0.44845,     0.44945,     0.45045,     0.45145,     0.45245,     0.45345,     0.45445,     0.45546,\n",
            "           0.45646,     0.45746,     0.45846,     0.45946,     0.46046,     0.46146,     0.46246,     0.46346,     0.46446,     0.46547,     0.46647,     0.46747,     0.46847,     0.46947,     0.47047,     0.47147,     0.47247,     0.47347,     0.47447,     0.47548,     0.47648,     0.47748,     0.47848,     0.47948,\n",
            "           0.48048,     0.48148,     0.48248,     0.48348,     0.48448,     0.48549,     0.48649,     0.48749,     0.48849,     0.48949,     0.49049,     0.49149,     0.49249,     0.49349,     0.49449,      0.4955,      0.4965,      0.4975,      0.4985,      0.4995,      0.5005,      0.5015,      0.5025,      0.5035,\n",
            "            0.5045,     0.50551,     0.50651,     0.50751,     0.50851,     0.50951,     0.51051,     0.51151,     0.51251,     0.51351,     0.51451,     0.51552,     0.51652,     0.51752,     0.51852,     0.51952,     0.52052,     0.52152,     0.52252,     0.52352,     0.52452,     0.52553,     0.52653,     0.52753,\n",
            "           0.52853,     0.52953,     0.53053,     0.53153,     0.53253,     0.53353,     0.53453,     0.53554,     0.53654,     0.53754,     0.53854,     0.53954,     0.54054,     0.54154,     0.54254,     0.54354,     0.54454,     0.54555,     0.54655,     0.54755,     0.54855,     0.54955,     0.55055,     0.55155,\n",
            "           0.55255,     0.55355,     0.55455,     0.55556,     0.55656,     0.55756,     0.55856,     0.55956,     0.56056,     0.56156,     0.56256,     0.56356,     0.56456,     0.56557,     0.56657,     0.56757,     0.56857,     0.56957,     0.57057,     0.57157,     0.57257,     0.57357,     0.57457,     0.57558,\n",
            "           0.57658,     0.57758,     0.57858,     0.57958,     0.58058,     0.58158,     0.58258,     0.58358,     0.58458,     0.58559,     0.58659,     0.58759,     0.58859,     0.58959,     0.59059,     0.59159,     0.59259,     0.59359,     0.59459,      0.5956,      0.5966,      0.5976,      0.5986,      0.5996,\n",
            "            0.6006,      0.6016,      0.6026,      0.6036,      0.6046,     0.60561,     0.60661,     0.60761,     0.60861,     0.60961,     0.61061,     0.61161,     0.61261,     0.61361,     0.61461,     0.61562,     0.61662,     0.61762,     0.61862,     0.61962,     0.62062,     0.62162,     0.62262,     0.62362,\n",
            "           0.62462,     0.62563,     0.62663,     0.62763,     0.62863,     0.62963,     0.63063,     0.63163,     0.63263,     0.63363,     0.63463,     0.63564,     0.63664,     0.63764,     0.63864,     0.63964,     0.64064,     0.64164,     0.64264,     0.64364,     0.64464,     0.64565,     0.64665,     0.64765,\n",
            "           0.64865,     0.64965,     0.65065,     0.65165,     0.65265,     0.65365,     0.65465,     0.65566,     0.65666,     0.65766,     0.65866,     0.65966,     0.66066,     0.66166,     0.66266,     0.66366,     0.66466,     0.66567,     0.66667,     0.66767,     0.66867,     0.66967,     0.67067,     0.67167,\n",
            "           0.67267,     0.67367,     0.67467,     0.67568,     0.67668,     0.67768,     0.67868,     0.67968,     0.68068,     0.68168,     0.68268,     0.68368,     0.68468,     0.68569,     0.68669,     0.68769,     0.68869,     0.68969,     0.69069,     0.69169,     0.69269,     0.69369,     0.69469,      0.6957,\n",
            "            0.6967,      0.6977,      0.6987,      0.6997,      0.7007,      0.7017,      0.7027,      0.7037,      0.7047,     0.70571,     0.70671,     0.70771,     0.70871,     0.70971,     0.71071,     0.71171,     0.71271,     0.71371,     0.71471,     0.71572,     0.71672,     0.71772,     0.71872,     0.71972,\n",
            "           0.72072,     0.72172,     0.72272,     0.72372,     0.72472,     0.72573,     0.72673,     0.72773,     0.72873,     0.72973,     0.73073,     0.73173,     0.73273,     0.73373,     0.73473,     0.73574,     0.73674,     0.73774,     0.73874,     0.73974,     0.74074,     0.74174,     0.74274,     0.74374,\n",
            "           0.74474,     0.74575,     0.74675,     0.74775,     0.74875,     0.74975,     0.75075,     0.75175,     0.75275,     0.75375,     0.75475,     0.75576,     0.75676,     0.75776,     0.75876,     0.75976,     0.76076,     0.76176,     0.76276,     0.76376,     0.76476,     0.76577,     0.76677,     0.76777,\n",
            "           0.76877,     0.76977,     0.77077,     0.77177,     0.77277,     0.77377,     0.77477,     0.77578,     0.77678,     0.77778,     0.77878,     0.77978,     0.78078,     0.78178,     0.78278,     0.78378,     0.78478,     0.78579,     0.78679,     0.78779,     0.78879,     0.78979,     0.79079,     0.79179,\n",
            "           0.79279,     0.79379,     0.79479,      0.7958,      0.7968,      0.7978,      0.7988,      0.7998,      0.8008,      0.8018,      0.8028,      0.8038,      0.8048,     0.80581,     0.80681,     0.80781,     0.80881,     0.80981,     0.81081,     0.81181,     0.81281,     0.81381,     0.81481,     0.81582,\n",
            "           0.81682,     0.81782,     0.81882,     0.81982,     0.82082,     0.82182,     0.82282,     0.82382,     0.82482,     0.82583,     0.82683,     0.82783,     0.82883,     0.82983,     0.83083,     0.83183,     0.83283,     0.83383,     0.83483,     0.83584,     0.83684,     0.83784,     0.83884,     0.83984,\n",
            "           0.84084,     0.84184,     0.84284,     0.84384,     0.84484,     0.84585,     0.84685,     0.84785,     0.84885,     0.84985,     0.85085,     0.85185,     0.85285,     0.85385,     0.85485,     0.85586,     0.85686,     0.85786,     0.85886,     0.85986,     0.86086,     0.86186,     0.86286,     0.86386,\n",
            "           0.86486,     0.86587,     0.86687,     0.86787,     0.86887,     0.86987,     0.87087,     0.87187,     0.87287,     0.87387,     0.87487,     0.87588,     0.87688,     0.87788,     0.87888,     0.87988,     0.88088,     0.88188,     0.88288,     0.88388,     0.88488,     0.88589,     0.88689,     0.88789,\n",
            "           0.88889,     0.88989,     0.89089,     0.89189,     0.89289,     0.89389,     0.89489,      0.8959,      0.8969,      0.8979,      0.8989,      0.8999,      0.9009,      0.9019,      0.9029,      0.9039,      0.9049,     0.90591,     0.90691,     0.90791,     0.90891,     0.90991,     0.91091,     0.91191,\n",
            "           0.91291,     0.91391,     0.91491,     0.91592,     0.91692,     0.91792,     0.91892,     0.91992,     0.92092,     0.92192,     0.92292,     0.92392,     0.92492,     0.92593,     0.92693,     0.92793,     0.92893,     0.92993,     0.93093,     0.93193,     0.93293,     0.93393,     0.93493,     0.93594,\n",
            "           0.93694,     0.93794,     0.93894,     0.93994,     0.94094,     0.94194,     0.94294,     0.94394,     0.94494,     0.94595,     0.94695,     0.94795,     0.94895,     0.94995,     0.95095,     0.95195,     0.95295,     0.95395,     0.95495,     0.95596,     0.95696,     0.95796,     0.95896,     0.95996,\n",
            "           0.96096,     0.96196,     0.96296,     0.96396,     0.96496,     0.96597,     0.96697,     0.96797,     0.96897,     0.96997,     0.97097,     0.97197,     0.97297,     0.97397,     0.97497,     0.97598,     0.97698,     0.97798,     0.97898,     0.97998,     0.98098,     0.98198,     0.98298,     0.98398,\n",
            "           0.98498,     0.98599,     0.98699,     0.98799,     0.98899,     0.98999,     0.99099,     0.99199,     0.99299,     0.99399,     0.99499,       0.996,       0.997,       0.998,       0.999,           1]), array([[    0.93878,     0.93878,     0.91837, ...,           0,           0,           0],\n",
            "       [    0.95531,     0.95531,     0.94972, ...,           0,           0,           0],\n",
            "       [    0.95595,     0.95595,     0.94762, ...,           0,           0,           0],\n",
            "       ...,\n",
            "       [    0.93548,     0.93548,     0.93548, ...,           0,           0,           0],\n",
            "       [    0.96032,     0.96032,     0.96032, ...,           0,           0,           0],\n",
            "       [    0.95024,     0.95024,     0.94313, ...,           0,           0,           0]]), 'Confidence', 'Recall']]\n",
            "fitness: 0.4342386943603854\n",
            "keys: ['metrics/precision(B)', 'metrics/recall(B)', 'metrics/mAP50(B)', 'metrics/mAP50-95(B)']\n",
            "maps: array([    0.19072,     0.20971,     0.49908,     0.59714,     0.40249,     0.76492,     0.46322,     0.57323,     0.24883,     0.38224,   0.0053686,     0.43031,     0.48023,     0.28522,     0.65568])\n",
            "names: {0: 'Ear Protection', 1: 'Glasses', 2: 'Gloves', 3: 'Helmet', 4: 'Mask', 5: 'Person', 6: 'Safety Shoes', 7: 'Vest', 8: 'Without Ear Protection', 9: 'Without Glasses', 10: 'Without Glove', 11: 'Without Helmet', 12: 'Without Mask', 13: 'Without Safety Shoes', 14: 'Without Vest'}\n",
            "plot: True\n",
            "results_dict: {'metrics/precision(B)': 0.5355847488909198, 'metrics/recall(B)': 0.7146071670544455, 'metrics/mAP50(B)': 0.6293589379737732, 'metrics/mAP50-95(B)': 0.4125586672922312, 'fitness': 0.4342386943603854}\n",
            "save_dir: PosixPath('runs/detect/val')\n",
            "speed: {'preprocess': 0.5387928294674161, 'inference': 3.8960597636359835, 'loss': 0.0007977711595436363, 'postprocess': 1.1162510520377331}\n",
            "task: 'detect'\n"
          ]
        }
      ]
    },
    {
      "cell_type": "code",
      "source": [
        "from ultralytics import YOLO\n",
        "import matplotlib.pyplot as plt\n",
        "from sklearn.metrics import confusion_matrix, ConfusionMatrixDisplay\n",
        "import seaborn as sns\n",
        "\n",
        "# تحميل النموذج المدرب\n",
        "model = YOLO('/content/best.pt')\n",
        "\n",
        "# التقييم مع إنشاء الكونفيوجن ماتريكس\n",
        "metrics = model.val(\n",
        "    data='/content/Innowork-24-4/data.yaml',\n",
        "    plots=True, # هذا سيولد الكونفيوجن ماتريكس تلقائيًا\n",
        "    save_json=True # لحفظ النتائج كملف JSON\n",
        ")\n",
        "\n",
        "# عرض الكونفيوجن ماتريكس المولدة تلقائيًا\n",
        "confusion_matrix_path = 'runs/detect/val/confusion_matrix.png'\n",
        "img = plt.imread(confusion_matrix_path)\n",
        "plt.figure(figsize=(12, 10))\n",
        "plt.imshow(img)\n",
        "plt.axis('off')\n",
        "plt.show()\n"
      ],
      "metadata": {
        "id": "poQ4a9WI_BKU",
        "colab": {
          "base_uri": "https://localhost:8080/",
          "height": 1000
        },
        "outputId": "d7857a57-29f0-43a3-ad13-87964571a6d1"
      },
      "execution_count": null,
      "outputs": [
        {
          "output_type": "stream",
          "name": "stdout",
          "text": [
            "Ultralytics 8.3.89 🚀 Python-3.11.11 torch-2.5.1+cu124 CUDA:0 (Tesla T4, 15095MiB)\n",
            "YOLO11n summary (fused): 100 layers, 2,585,077 parameters, 0 gradients, 6.3 GFLOPs\n"
          ]
        },
        {
          "output_type": "stream",
          "name": "stderr",
          "text": [
            "\u001b[34m\u001b[1mval: \u001b[0mScanning /content/Innowork-24-4/valid/labels.cache... 1595 images, 0 backgrounds, 0 corrupt: 100%|██████████| 1595/1595 [00:00<?, ?it/s]\n"
          ]
        },
        {
          "output_type": "stream",
          "name": "stdout",
          "text": [
            "WARNING ⚠️ Box and segment counts should be equal, but got len(segments) = 104, len(boxes) = 5592. To resolve this only boxes will be used and all segments will be removed. To avoid this please supply either a detect or segment dataset, not a detect-segment mixed dataset.\n"
          ]
        },
        {
          "output_type": "stream",
          "name": "stderr",
          "text": [
            "                 Class     Images  Instances      Box(P          R      mAP50  mAP50-95): 100%|██████████| 100/100 [00:20<00:00,  4.77it/s]\n"
          ]
        },
        {
          "output_type": "stream",
          "name": "stdout",
          "text": [
            "                   all       1595       5592      0.536      0.715      0.629      0.413\n",
            "        Ear Protection         92        147      0.488      0.612      0.467      0.191\n",
            "               Glasses        172        179      0.425      0.777       0.42       0.21\n",
            "                Gloves        448        840      0.767       0.82      0.815      0.499\n",
            "                Helmet        586        689      0.826      0.903      0.882      0.597\n",
            "                  Mask        364        409      0.639      0.614      0.722      0.402\n",
            "                Person        704        782      0.761      0.965      0.925      0.765\n",
            "          Safety Shoes        310        635      0.574      0.603       0.67      0.463\n",
            "                  Vest        464        604      0.779      0.892      0.877      0.573\n",
            "Without Ear Protection        106        124      0.284      0.669      0.521      0.249\n",
            "       Without Glasses        103        112      0.391      0.893      0.666      0.382\n",
            "         Without Glove          7         12     0.0131      0.167     0.0141    0.00537\n",
            "        Without Helmet        255        325      0.472       0.64      0.607       0.43\n",
            "          Without Mask        133        186      0.489      0.586      0.618       0.48\n",
            "  Without Safety Shoes         63        126      0.201      0.857      0.395      0.285\n",
            "          Without Vest        361        422      0.925       0.72      0.842      0.656\n",
            "Speed: 0.5ms preprocess, 3.8ms inference, 0.0ms loss, 1.4ms postprocess per image\n",
            "Saving runs/detect/val2/predictions.json...\n",
            "Results saved to \u001b[1mruns/detect/val2\u001b[0m\n"
          ]
        },
        {
          "output_type": "display_data",
          "data": {
            "text/plain": [
              "<Figure size 1200x1000 with 1 Axes>"
            ],
            "image/png": "[encoded data removed]"
          },
          "metadata": {}
        }
      ]
    },
    {
      "cell_type": "markdown",
      "source": [
        "# New Section"
      ],
      "metadata": {
        "id": "dBTZz3FBgyig"
      }
    },
    {
      "cell_type": "code",
      "source": [
        "# Load the trained YOLOv11 model\n",
        "model = YOLO(\"/content/best.pt\")  # Replace with your actual weight file\n",
        "\n",
        "# Load test image\n",
        "image_path = \"/content/test_image.jpg\"  # Replace with your test image\n",
        "results = model(image_path)\n",
        "\n",
        "# Plot the results\n",
        "results[0].plot()\n"
      ],
      "metadata": {
        "colab": {
          "base_uri": "https://localhost:8080/",
          "height": 293
        },
        "id": "Bslrw8FWJdOX",
        "outputId": "02cde357-e476-4c3d-c12a-6f6ddc3a3bd9"
      },
      "execution_count": 8,
      "outputs": [
        {
          "output_type": "stream",
          "name": "stdout",
          "text": [
            "\n",
            "image 1/1 /content/test_image.jpg: 416x640 1 Glasses, 2 Glovess, 1 Helmet, 1 Person, 1 Vest, 17.3ms\n",
            "Speed: 3.3ms preprocess, 17.3ms inference, 1.7ms postprocess per image at shape (1, 3, 416, 640)\n"
          ]
        },
        {
          "output_type": "execute_result",
          "data": {
            "text/plain": [
              "array([[[  0,  22,  29],\n",
              "        [  0,  26,  33],\n",
              "        [  5,  31,  38],\n",
              "        ...,\n",
              "        [ 71,  82,  80],\n",
              "        [ 71,  82,  80],\n",
              "        [ 72,  83,  81]],\n",
              "\n",
              "       [[  0,  22,  29],\n",
              "        [  0,  26,  33],\n",
              "        [  6,  32,  39],\n",
              "        ...,\n",
              "        [ 71,  82,  80],\n",
              "        [ 71,  82,  80],\n",
              "        [ 72,  83,  81]],\n",
              "\n",
              "       [[  0,  22,  29],\n",
              "        [  0,  26,  33],\n",
              "        [  6,  32,  39],\n",
              "        ...,\n",
              "        [ 71,  82,  80],\n",
              "        [ 71,  82,  80],\n",
              "        [ 72,  83,  81]],\n",
              "\n",
              "       ...,\n",
              "\n",
              "       [[ 16,  27,  31],\n",
              "        [ 13,  24,  28],\n",
              "        [ 10,  19,  23],\n",
              "        ...,\n",
              "        [125, 138, 136],\n",
              "        [120, 133, 131],\n",
              "        [126, 139, 137]],\n",
              "\n",
              "       [[ 15,  26,  30],\n",
              "        [ 13,  24,  28],\n",
              "        [ 10,  19,  23],\n",
              "        ...,\n",
              "        [121, 134, 132],\n",
              "        [116, 129, 127],\n",
              "        [121, 134, 132]],\n",
              "\n",
              "       [[ 15,  26,  30],\n",
              "        [ 12,  23,  27],\n",
              "        [ 10,  19,  23],\n",
              "        ...,\n",
              "        [118, 131, 129],\n",
              "        [112, 125, 123],\n",
              "        [117, 130, 128]]], dtype=uint8)"
            ],
            "text/html": [
              "<style>\n",
              "      .ndarray_repr .ndarray_raw_data {\n",
              "        display: none;\n",
              "      }\n",
              "      .ndarray_repr.show_array .ndarray_raw_data {\n",
              "        display: block;\n",
              "      }\n",
              "      .ndarray_repr.show_array .ndarray_image_preview {\n",
              "        display: none;\n",
              "      }\n",
              "      </style>\n",
              "      <div id=\"id-f32f99e2-f295-47a7-ad7d-8d19260db84b\" class=\"ndarray_repr\"><pre>ndarray (180, 281, 3) <button style=\"padding: 0 2px;\">show data</button></pre><img src=\"data:image/png;base64,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\" class=\"ndarray_image_preview\" /><pre class=\"ndarray_raw_data\">array([[[  0,  22,  29],\n",
              "        [  0,  26,  33],\n",
              "        [  5,  31,  38],\n",
              "        ...,\n",
              "        [ 71,  82,  80],\n",
              "        [ 71,  82,  80],\n",
              "        [ 72,  83,  81]],\n",
              "\n",
              "       [[  0,  22,  29],\n",
              "        [  0,  26,  33],\n",
              "        [  6,  32,  39],\n",
              "        ...,\n",
              "        [ 71,  82,  80],\n",
              "        [ 71,  82,  80],\n",
              "        [ 72,  83,  81]],\n",
              "\n",
              "       [[  0,  22,  29],\n",
              "        [  0,  26,  33],\n",
              "        [  6,  32,  39],\n",
              "        ...,\n",
              "        [ 71,  82,  80],\n",
              "        [ 71,  82,  80],\n",
              "        [ 72,  83,  81]],\n",
              "\n",
              "       ...,\n",
              "\n",
              "       [[ 16,  27,  31],\n",
              "        [ 13,  24,  28],\n",
              "        [ 10,  19,  23],\n",
              "        ...,\n",
              "        [125, 138, 136],\n",
              "        [120, 133, 131],\n",
              "        [126, 139, 137]],\n",
              "\n",
              "       [[ 15,  26,  30],\n",
              "        [ 13,  24,  28],\n",
              "        [ 10,  19,  23],\n",
              "        ...,\n",
              "        [121, 134, 132],\n",
              "        [116, 129, 127],\n",
              "        [121, 134, 132]],\n",
              "\n",
              "       [[ 15,  26,  30],\n",
              "        [ 12,  23,  27],\n",
              "        [ 10,  19,  23],\n",
              "        ...,\n",
              "        [118, 131, 129],\n",
              "        [112, 125, 123],\n",
              "        [117, 130, 128]]], dtype=uint8)</pre></div><script>\n",
              "      (() => {\n",
              "      const titles = ['show data', 'hide data'];\n",
              "      let index = 0\n",
              "      document.querySelector('#id-f32f99e2-f295-47a7-ad7d-8d19260db84b button').onclick = (e) => {\n",
              "        document.querySelector('#id-f32f99e2-f295-47a7-ad7d-8d19260db84b').classList.toggle('show_array');\n",
              "        index = (++index) % 2;\n",
              "        document.querySelector('#id-f32f99e2-f295-47a7-ad7d-8d19260db84b button').textContent = titles[index];\n",
              "        e.preventDefault();\n",
              "        e.stopPropagation();\n",
              "      }\n",
              "      })();\n",
              "    </script>"
            ]
          },
          "metadata": {},
          "execution_count": 8
        }
      ]
    }
  ]
}